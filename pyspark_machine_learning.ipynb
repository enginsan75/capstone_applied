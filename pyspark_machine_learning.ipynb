{
 "cells": [
  {
   "cell_type": "code",
   "execution_count": 2,
   "id": "f6304888-9a3c-4f6e-ad66-3b23b1654390",
   "metadata": {},
   "outputs": [
    {
     "name": "stdout",
     "output_type": "stream",
     "text": [
      "/Library/Java/JavaVirtualMachines/adoptopenjdk-8.jdk/Contents/Home\n"
     ]
    }
   ],
   "source": [
    "import os\n",
    "os.environ['JAVA_HOME']='/Library/Java/JavaVirtualMachines/adoptopenjdk-8.jdk/Contents/Home'\n",
    "print(os.environ['JAVA_HOME'])"
   ]
  },
  {
   "cell_type": "code",
   "execution_count": 3,
   "id": "93b7a417-fd09-435a-aa80-ebb35454bb22",
   "metadata": {},
   "outputs": [],
   "source": [
    "import pyspark \n",
    "from pyspark.sql import SparkSession\n",
    "from pyspark.sql.types import StructType\n",
    "from pyspark.sql import DataFrameReader\n",
    "from pyspark.sql import DataFrameWriter\n",
    "from pyspark import SparkContext"
   ]
  },
  {
   "cell_type": "code",
   "execution_count": 4,
   "id": "c30b12ba-bd10-46d6-93f4-6137148bb0ee",
   "metadata": {},
   "outputs": [],
   "source": [
    "#spark.stop"
   ]
  },
  {
   "cell_type": "code",
   "execution_count": 5,
   "id": "5d562e54-ac59-4860-bdbc-c3fcaa03be3e",
   "metadata": {},
   "outputs": [
    {
     "name": "stderr",
     "output_type": "stream",
     "text": [
      "24/09/17 08:59:41 WARN Utils: Your hostname, Engins-MacBook-Air.local resolves to a loopback address: 127.0.0.1; using 192.168.116.46 instead (on interface en0)\n",
      "24/09/17 08:59:41 WARN Utils: Set SPARK_LOCAL_IP if you need to bind to another address\n",
      "Setting default log level to \"WARN\".\n",
      "To adjust logging level use sc.setLogLevel(newLevel). For SparkR, use setLogLevel(newLevel).\n",
      "24/09/17 08:59:42 WARN NativeCodeLoader: Unable to load native-hadoop library for your platform... using builtin-java classes where applicable\n"
     ]
    },
    {
     "name": "stdout",
     "output_type": "stream",
     "text": [
      "3.5.1\n"
     ]
    }
   ],
   "source": [
    "spark = SparkSession.builder.getOrCreate()\n",
    "print(spark.version)"
   ]
  },
  {
   "cell_type": "code",
   "execution_count": 6,
   "id": "a31f1ab6-2a46-4301-8eb8-198d45ee2058",
   "metadata": {},
   "outputs": [],
   "source": [
    "# Reuse the existing SparkContext or create a new one if none exists\n",
    "sc = SparkContext.getOrCreate()"
   ]
  },
  {
   "cell_type": "code",
   "execution_count": 7,
   "id": "85994520-4bab-4c11-b358-c708c2a57f98",
   "metadata": {},
   "outputs": [
    {
     "name": "stderr",
     "output_type": "stream",
     "text": [
      "                                                                                \r"
     ]
    },
    {
     "data": {
      "text/plain": [
       "32561"
      ]
     },
     "execution_count": 7,
     "metadata": {},
     "output_type": "execute_result"
    }
   ],
   "source": [
    "#reading census_income data and remove white spaces in strings type columns from data:\n",
    "import pyspark.sql.functions as func\n",
    "census_path = '/Users/enginsan/Downloads/census_income.csv'\n",
    "\n",
    "census = spark.read.csv(\n",
    "    census_path\n",
    "    , header=True\n",
    "    , inferSchema=True\n",
    ")\n",
    "\n",
    "for col, typ in census.dtypes:\n",
    "    if typ == 'string':\n",
    "        census = census.withColumn(\n",
    "            col\n",
    "            , func.ltrim(func.rtrim(census[col]))\n",
    "        )\n",
    "census.count()"
   ]
  },
  {
   "cell_type": "code",
   "execution_count": 8,
   "id": "2f5823c4-7e9b-4d4d-bf42-18e3a9d5ae80",
   "metadata": {},
   "outputs": [
    {
     "name": "stdout",
     "output_type": "stream",
     "text": [
      "+---+----------------+------+---------+-------------+--------------------+-----------------+-------------+-----+------+------------+------------+--------------+--------------+-----+\n",
      "|age|       workclass|fnlwgt|education|education-num|      marital-status|       occupation| relationship| race|   sex|capital-gain|capital-loss|hours-per-week|native-country|label|\n",
      "+---+----------------+------+---------+-------------+--------------------+-----------------+-------------+-----+------+------------+------------+--------------+--------------+-----+\n",
      "| 39|       State-gov| 77516|Bachelors|           13|       Never-married|     Adm-clerical|Not-in-family|White|  Male|        2174|           0|            40| United-States|<=50K|\n",
      "| 50|Self-emp-not-inc| 83311|Bachelors|           13|  Married-civ-spouse|  Exec-managerial|      Husband|White|  Male|           0|           0|            13| United-States|<=50K|\n",
      "| 38|         Private|215646|  HS-grad|            9|            Divorced|Handlers-cleaners|Not-in-family|White|  Male|           0|           0|            40| United-States|<=50K|\n",
      "| 53|         Private|234721|     11th|            7|  Married-civ-spouse|Handlers-cleaners|      Husband|Black|  Male|           0|           0|            40| United-States|<=50K|\n",
      "| 28|         Private|338409|Bachelors|           13|  Married-civ-spouse|   Prof-specialty|         Wife|Black|Female|           0|           0|            40|          Cuba|<=50K|\n",
      "| 37|         Private|284582|  Masters|           14|  Married-civ-spouse|  Exec-managerial|         Wife|White|Female|           0|           0|            40| United-States|<=50K|\n",
      "| 49|         Private|160187|      9th|            5|Married-spouse-ab...|    Other-service|Not-in-family|Black|Female|           0|           0|            16|       Jamaica|<=50K|\n",
      "| 52|Self-emp-not-inc|209642|  HS-grad|            9|  Married-civ-spouse|  Exec-managerial|      Husband|White|  Male|           0|           0|            45| United-States| >50K|\n",
      "| 31|         Private| 45781|  Masters|           14|       Never-married|   Prof-specialty|Not-in-family|White|Female|       14084|           0|            50| United-States| >50K|\n",
      "| 42|         Private|159449|Bachelors|           13|  Married-civ-spouse|  Exec-managerial|      Husband|White|  Male|        5178|           0|            40| United-States| >50K|\n",
      "+---+----------------+------+---------+-------------+--------------------+-----------------+-------------+-----+------+------------+------------+--------------+--------------+-----+\n",
      "only showing top 10 rows\n",
      "\n"
     ]
    }
   ],
   "source": [
    "census.show(10)"
   ]
  },
  {
   "cell_type": "code",
   "execution_count": 9,
   "id": "f78be692-a4de-43f2-ab56-16f24582e237",
   "metadata": {},
   "outputs": [
    {
     "name": "stdout",
     "output_type": "stream",
     "text": [
      "root\n",
      " |-- age: integer (nullable = true)\n",
      " |-- workclass: string (nullable = true)\n",
      " |-- fnlwgt: integer (nullable = true)\n",
      " |-- education: string (nullable = true)\n",
      " |-- education-num: integer (nullable = true)\n",
      " |-- marital-status: string (nullable = true)\n",
      " |-- occupation: string (nullable = true)\n",
      " |-- relationship: string (nullable = true)\n",
      " |-- race: string (nullable = true)\n",
      " |-- sex: string (nullable = true)\n",
      " |-- capital-gain: integer (nullable = true)\n",
      " |-- capital-loss: integer (nullable = true)\n",
      " |-- hours-per-week: integer (nullable = true)\n",
      " |-- native-country: string (nullable = true)\n",
      " |-- label: string (nullable = true)\n",
      "\n"
     ]
    }
   ],
   "source": [
    "census.printSchema()"
   ]
  },
  {
   "cell_type": "code",
   "execution_count": 10,
   "id": "18af2792-c319-4380-94f0-0fc666e41501",
   "metadata": {},
   "outputs": [
    {
     "data": {
      "text/plain": [
       "[('age', 'int'),\n",
       " ('workclass', 'string'),\n",
       " ('fnlwgt', 'int'),\n",
       " ('education', 'string'),\n",
       " ('education-num', 'int'),\n",
       " ('marital-status', 'string'),\n",
       " ('occupation', 'string'),\n",
       " ('relationship', 'string'),\n",
       " ('race', 'string'),\n",
       " ('sex', 'string'),\n",
       " ('capital-gain', 'int'),\n",
       " ('capital-loss', 'int'),\n",
       " ('hours-per-week', 'int'),\n",
       " ('native-country', 'string'),\n",
       " ('label', 'string')]"
      ]
     },
     "execution_count": 10,
     "metadata": {},
     "output_type": "execute_result"
    }
   ],
   "source": [
    "census.dtypes \n",
    "#first var is col label, second is the type"
   ]
  },
  {
   "cell_type": "code",
   "execution_count": 11,
   "id": "faea1413-d417-4b4e-b64b-8dcea7b8c71d",
   "metadata": {},
   "outputs": [
    {
     "data": {
      "text/plain": [
       "[('age', 'int'),\n",
       " ('workclass', 'string'),\n",
       " ('fnlwgt', 'int'),\n",
       " ('education', 'string'),\n",
       " ('education-num', 'int'),\n",
       " ('marital-status', 'string'),\n",
       " ('occupation', 'string'),\n",
       " ('relationship', 'string'),\n",
       " ('race', 'string'),\n",
       " ('sex', 'string'),\n",
       " ('capital-gain', 'int'),\n",
       " ('capital-loss', 'int'),\n",
       " ('hours-per-week', 'int'),\n",
       " ('native-country', 'string')]"
      ]
     },
     "execution_count": 11,
     "metadata": {},
     "output_type": "execute_result"
    }
   ],
   "source": [
    "census.dtypes[:-1]"
   ]
  },
  {
   "cell_type": "code",
   "execution_count": 12,
   "id": "cec7b812-afda-4eb6-a55d-cabe9925704e",
   "metadata": {},
   "outputs": [
    {
     "data": {
      "text/plain": [
       "['label',\n",
       " 'age',\n",
       " 'capital-gain',\n",
       " 'capital-loss',\n",
       " 'hours-per-week',\n",
       " 'workclass',\n",
       " 'education',\n",
       " 'marital-status',\n",
       " 'occupation',\n",
       " 'relationship',\n",
       " 'race',\n",
       " 'sex',\n",
       " 'native-country']"
      ]
     },
     "execution_count": 12,
     "metadata": {},
     "output_type": "execute_result"
    }
   ],
   "source": [
    "cols_to_keep = census.dtypes\n",
    "\n",
    "cols_to_keep = (\n",
    "    ['label','age'\n",
    "     ,'capital-gain'\n",
    "     ,'capital-loss'\n",
    "     ,'hours-per-week'\n",
    "    ] + [\n",
    "        e[0] for e in cols_to_keep[:-1] \n",
    "        if e[1] == 'string'\n",
    "    ]\n",
    ")\n",
    "\n",
    "cols_to_keep"
   ]
  },
  {
   "cell_type": "code",
   "execution_count": 13,
   "id": "109cc039-37f5-4ff4-9e1a-e6eced12e3f8",
   "metadata": {},
   "outputs": [
    {
     "data": {
      "text/plain": [
       "(['age', 'capital-gain', 'capital-loss', 'hours-per-week'],\n",
       " ['workclass',\n",
       "  'education',\n",
       "  'marital-status',\n",
       "  'occupation',\n",
       "  'relationship',\n",
       "  'race',\n",
       "  'sex',\n",
       "  'native-country'])"
      ]
     },
     "execution_count": 13,
     "metadata": {},
     "output_type": "execute_result"
    }
   ],
   "source": [
    "#Get numeric and categorical columns\n",
    "import pyspark.mllib.stat as st\n",
    "import numpy as np\n",
    "\n",
    "census_subset = census.select(cols_to_keep)\n",
    "\n",
    "cols_num = [\n",
    "    e[0] for e in census_subset.dtypes \n",
    "    if e[1] == 'int'\n",
    "]\n",
    "cols_cat = [\n",
    "    e[0] for e in census_subset.dtypes[1:] \n",
    "    if e[1] == 'string'\n",
    "]\n",
    "cols_num, cols_cat"
   ]
  },
  {
   "cell_type": "code",
   "execution_count": 14,
   "id": "c82cdf15-6ca2-4849-b314-0f802177b5fb",
   "metadata": {},
   "outputs": [
    {
     "name": "stderr",
     "output_type": "stream",
     "text": [
      "                                                                                \r"
     ]
    },
    {
     "data": {
      "text/plain": [
       "[[39, 2174, 0, 40],\n",
       " [50, 0, 0, 13],\n",
       " [38, 0, 0, 40],\n",
       " [53, 0, 0, 40],\n",
       " [28, 0, 0, 40]]"
      ]
     },
     "execution_count": 14,
     "metadata": {},
     "output_type": "execute_result"
    }
   ],
   "source": [
    "rdd_num = (\n",
    "    census_subset\n",
    "    .select(cols_num)\n",
    "    .rdd\n",
    "    .map(lambda row: [e for e in row])\n",
    ")\n",
    "rdd_num.take(5)"
   ]
  },
  {
   "cell_type": "code",
   "execution_count": 15,
   "id": "8543a7af-19ff-4587-aa3b-b91aa83b3168",
   "metadata": {},
   "outputs": [
    {
     "name": "stdout",
     "output_type": "stream",
     "text": [
      "<pyspark.mllib.stat._statistics.MultivariateStatisticalSummary object at 0x117ecff10>\n"
     ]
    }
   ],
   "source": [
    "stats_num = st.Statistics.colStats(rdd_num)\n",
    "print(stats_num)\n"
   ]
  },
  {
   "cell_type": "code",
   "execution_count": 16,
   "id": "1d8b776c-61d4-429e-9bb3-7f1736fe23a0",
   "metadata": {},
   "outputs": [
    {
     "name": "stdout",
     "output_type": "stream",
     "text": [
      "age: min->17.0, mean->38.6, max->90.0, stdev->13.6\n",
      "capital-gain: min->0.0, mean->1077.6, max->99999.0, stdev->7385.3\n",
      "capital-loss: min->0.0, mean->87.3, max->4356.0, stdev->403.0\n",
      "hours-per-week: min->1.0, mean->40.4, max->99.0, stdev->12.3\n"
     ]
    }
   ],
   "source": [
    "for col, min_, mean_, max_, var_ in zip(\n",
    "      cols_num\n",
    "    , stats_num.min()\n",
    "    , stats_num.mean()\n",
    "    , stats_num.max()\n",
    "    , stats_num.variance()\n",
    "):\n",
    "    print('{0}: min->{1:.1f}, mean->{2:.1f}, max->{3:.1f}, stdev->{4:.1f}'\n",
    "          .format(col, min_, mean_, max_, np.sqrt(var_)))"
   ]
  },
  {
   "cell_type": "code",
   "execution_count": 17,
   "id": "319bd7ef-5087-4dd0-8047-5a965e61afd9",
   "metadata": {},
   "outputs": [
    {
     "name": "stderr",
     "output_type": "stream",
     "text": [
      "                                                                                \r"
     ]
    },
    {
     "name": "stdout",
     "output_type": "stream",
     "text": [
      "workclass [('Private', 22696), ('Self-emp-not-inc', 2541), ('Local-gov', 2093), ('?', 1836), ('State-gov', 1298), ('Self-emp-inc', 1116), ('Federal-gov', 960), ('Without-pay', 14), ('Never-worked', 7)] \n",
      "\n",
      "education [('HS-grad', 10501), ('Some-college', 7291), ('Bachelors', 5355), ('Masters', 1723), ('Assoc-voc', 1382), ('11th', 1175), ('Assoc-acdm', 1067), ('10th', 933), ('7th-8th', 646), ('Prof-school', 576), ('9th', 514), ('12th', 433), ('Doctorate', 413), ('5th-6th', 333), ('1st-4th', 168), ('Preschool', 51)] \n",
      "\n",
      "marital-status [('Married-civ-spouse', 14976), ('Never-married', 10683), ('Divorced', 4443), ('Separated', 1025), ('Widowed', 993), ('Married-spouse-absent', 418), ('Married-AF-spouse', 23)] \n",
      "\n",
      "occupation [('Prof-specialty', 4140), ('Craft-repair', 4099), ('Exec-managerial', 4066), ('Adm-clerical', 3770), ('Sales', 3650), ('Other-service', 3295), ('Machine-op-inspct', 2002), ('?', 1843), ('Transport-moving', 1597), ('Handlers-cleaners', 1370), ('Farming-fishing', 994), ('Tech-support', 928), ('Protective-serv', 649), ('Priv-house-serv', 149), ('Armed-Forces', 9)] \n",
      "\n",
      "relationship [('Husband', 13193), ('Not-in-family', 8305), ('Own-child', 5068), ('Unmarried', 3446), ('Wife', 1568), ('Other-relative', 981)] \n",
      "\n",
      "race [('White', 27816), ('Black', 3124), ('Asian-Pac-Islander', 1039), ('Amer-Indian-Eskimo', 311), ('Other', 271)] \n",
      "\n",
      "sex [('Male', 21790), ('Female', 10771)] \n",
      "\n",
      "native-country [('United-States', 29170), ('Mexico', 643), ('?', 583), ('Philippines', 198), ('Germany', 137), ('Canada', 121), ('Puerto-Rico', 114), ('El-Salvador', 106), ('India', 100), ('Cuba', 95), ('England', 90), ('Jamaica', 81), ('South', 80), ('China', 75), ('Italy', 73), ('Dominican-Republic', 70), ('Vietnam', 67), ('Guatemala', 64), ('Japan', 62), ('Poland', 60), ('Columbia', 59), ('Taiwan', 51), ('Haiti', 44), ('Iran', 43), ('Portugal', 37), ('Nicaragua', 34), ('Peru', 31), ('France', 29), ('Greece', 29), ('Ecuador', 28), ('Ireland', 24), ('Hong', 20), ('Cambodia', 19), ('Trinadad&Tobago', 19), ('Thailand', 18), ('Laos', 18), ('Yugoslavia', 16), ('Outlying-US(Guam-USVI-etc)', 14), ('Honduras', 13), ('Hungary', 13), ('Scotland', 12), ('Holand-Netherlands', 1)] \n",
      "\n",
      "label [('<=50K', 24720), ('>50K', 7841)] \n",
      "\n"
     ]
    }
   ],
   "source": [
    "#categorical data:\n",
    "rdd_cat = (\n",
    "    census_subset\n",
    "    .select(cols_cat + ['label'])\n",
    "    .rdd\n",
    "    .map(lambda row: [e for e in row])\n",
    ")\n",
    "\n",
    "results_cat = {}\n",
    "\n",
    "for i, col in enumerate(cols_cat + ['label']):\n",
    "    results_cat[col] = (\n",
    "        rdd_cat\n",
    "        .groupBy(lambda row: row[i])\n",
    "        .map(lambda el: (el[0], len(el[1])))\n",
    "        .collect()\n",
    "    )\n",
    "#el[0] is value, len(el[1] is frequency ) )\n",
    "for k in results_cat:\n",
    "    print(\n",
    "        k\n",
    "        , sorted(\n",
    "            results_cat[k]\n",
    "            , key=lambda el: el[1]\n",
    "            , reverse=True)\n",
    "        , '\\n')"
   ]
  },
  {
   "cell_type": "code",
   "execution_count": 18,
   "id": "d6efdb8b-9d96-4648-a3ba-fba6b1b0a4f3",
   "metadata": {},
   "outputs": [
    {
     "name": "stderr",
     "output_type": "stream",
     "text": [
      "24/09/17 09:00:02 WARN InstanceBuilder: Failed to load implementation from:dev.ludovic.netlib.blas.JNIBLAS\n",
      "                                                                                \r"
     ]
    },
    {
     "data": {
      "text/plain": [
       "array([[ 1.        ,  0.0776745 ,  0.05777454,  0.06875571],\n",
       "       [ 0.0776745 ,  1.        , -0.03161506,  0.07840862],\n",
       "       [ 0.05777454, -0.03161506,  1.        ,  0.05425636],\n",
       "       [ 0.06875571,  0.07840862,  0.05425636,  1.        ]])"
      ]
     },
     "execution_count": 18,
     "metadata": {},
     "output_type": "execute_result"
    }
   ],
   "source": [
    "correlations = st.Statistics.corr(rdd_num)\n",
    "correlations"
   ]
  },
  {
   "cell_type": "code",
   "execution_count": 19,
   "id": "d853a966-eabf-46de-b507-150fa40a48e4",
   "metadata": {},
   "outputs": [
    {
     "name": "stdout",
     "output_type": "stream",
     "text": [
      "age\n",
      "     capital-gain 0.077674498166008\n",
      "     capital-loss 0.05777453947896792\n",
      "     hours-per-week 0.0687557075095634\n",
      "\n",
      "capital-gain\n",
      "     age 0.077674498166008\n",
      "     hours-per-week 0.078408615390123\n",
      "\n",
      "capital-loss\n",
      "     age 0.05777453947896792\n",
      "     hours-per-week 0.05425636227262224\n",
      "\n",
      "hours-per-week\n",
      "     age 0.0687557075095634\n",
      "     capital-gain 0.078408615390123\n",
      "     capital-loss 0.05425636227262224\n",
      "\n"
     ]
    }
   ],
   "source": [
    "for i, el_i in enumerate(abs(correlations) > 0.05):\n",
    "    print(cols_num[i])\n",
    "    \n",
    "    for j, el_j in enumerate(el_i):\n",
    "        if el_j and j != i:\n",
    "            print(\n",
    "                '    '\n",
    "                , cols_num[j]\n",
    "                , correlations[i][j]\n",
    "            )\n",
    "            \n",
    "    print()"
   ]
  },
  {
   "cell_type": "code",
   "execution_count": 20,
   "id": "95c7efe2-85f1-483a-8a59-68acd2a4a2ba",
   "metadata": {},
   "outputs": [],
   "source": [
    "#Testing the data:"
   ]
  },
  {
   "cell_type": "code",
   "execution_count": 41,
   "id": "d025c69e-997f-4258-9965-71005ad09b32",
   "metadata": {},
   "outputs": [
    {
     "name": "stdout",
     "output_type": "stream",
     "text": [
      "0.0\n",
      "the occurrence of the outcomes is statistically independent.\n"
     ]
    }
   ],
   "source": [
    "import pyspark.mllib.linalg as ln\n",
    "\n",
    "census_occupation = (\n",
    "    census\n",
    "    .groupby('occupation')\n",
    "    .pivot('label')\n",
    "    .count()\n",
    ")\n",
    "\n",
    "census_occupation_coll = (\n",
    "    census_occupation\n",
    "    .rdd\n",
    "    .map(lambda row: (row[1:]))\n",
    "    .flatMap(lambda row: row)\n",
    "    .collect()\n",
    ")\n",
    "\n",
    "len_row = len(census_occupation.collect())\n",
    "dense_mat = ln.DenseMatrix(\n",
    "    len_row\n",
    "    , 2\n",
    "    , census_occupation_coll\n",
    "    , True\n",
    ")\n",
    "\n",
    "chi_sq = st.Statistics.chiSqTest(dense_mat)\n",
    "\n",
    "print(chi_sq.pValue)\n",
    "print(chi_sq.nullHypothesis)"
   ]
  },
  {
   "cell_type": "code",
   "execution_count": 43,
   "id": "fc94332d-de53-4b7e-bd20-6763a2be80e3",
   "metadata": {},
   "outputs": [
    {
     "data": {
      "text/plain": [
       "array([[2.667e+03, 9.830e+02],\n",
       "       [2.098e+03, 1.968e+03],\n",
       "       [2.281e+03, 1.859e+03],\n",
       "       [1.284e+03, 8.600e+01],\n",
       "       [8.790e+02, 1.150e+02],\n",
       "       [3.170e+03, 9.290e+02],\n",
       "       [1.277e+03, 3.200e+02],\n",
       "       [1.480e+02, 1.000e+00],\n",
       "       [4.380e+02, 2.110e+02],\n",
       "       [3.158e+03, 1.370e+02],\n",
       "       [6.450e+02, 2.830e+02],\n",
       "       [1.752e+03, 2.500e+02],\n",
       "       [8.000e+00, 1.000e+00],\n",
       "       [1.652e+03, 1.910e+02],\n",
       "       [3.263e+03, 5.070e+02]])"
      ]
     },
     "execution_count": 43,
     "metadata": {},
     "output_type": "execute_result"
    }
   ],
   "source": [
    "dense_mat.toArray()"
   ]
  },
  {
   "cell_type": "code",
   "execution_count": 45,
   "id": "00d921e2-ddc0-4241-953b-c64b5f6ca9c9",
   "metadata": {},
   "outputs": [
    {
     "data": {
      "text/plain": [
       "{'workclass': 9,\n",
       " 'education': 16,\n",
       " 'marital-status': 7,\n",
       " 'occupation': 15,\n",
       " 'relationship': 6,\n",
       " 'race': 5,\n",
       " 'sex': 2,\n",
       " 'native-country': 42}"
      ]
     },
     "execution_count": 45,
     "metadata": {},
     "output_type": "execute_result"
    }
   ],
   "source": [
    "len_ftrs = []\n",
    "\n",
    "for col in cols_cat:\n",
    "    (\n",
    "        len_ftrs\n",
    "        .append(\n",
    "            (col\n",
    "             , census\n",
    "                 .select(col)\n",
    "                 .distinct()\n",
    "                 .count()\n",
    "            )\n",
    "        )\n",
    "    )\n",
    "    \n",
    "len_ftrs = dict(len_ftrs)\n",
    "len_ftrs"
   ]
  },
  {
   "cell_type": "code",
   "execution_count": 47,
   "id": "cae8c525-16c7-428b-a20e-b4826a3e4e01",
   "metadata": {},
   "outputs": [
    {
     "data": {
      "text/plain": [
       "[[['<=50K'],\n",
       "  [39],\n",
       "  [2174],\n",
       "  [0],\n",
       "  [40],\n",
       "  [4.0, 2.0, 2.0, 1.0],\n",
       "  [0.0, 3.0, 1.0, 1.0, 1.0, 1.0, 1.0, 1.0],\n",
       "  [5.0, 3.0, 5.0],\n",
       "  [1.0, 0.0, 3.0, 0.0, 0.0, 4.0, 4.0],\n",
       "  [4.0, 4.0, 5.0],\n",
       "  [1.0, 4.0],\n",
       "  [4.0],\n",
       "  [0.0,\n",
       "   0.0,\n",
       "   6.0,\n",
       "   0.0,\n",
       "   1.0,\n",
       "   1.0,\n",
       "   0.0,\n",
       "   0.0,\n",
       "   0.0,\n",
       "   1.0,\n",
       "   0.0,\n",
       "   0.0,\n",
       "   1.0,\n",
       "   0.0,\n",
       "   0.0,\n",
       "   0.0,\n",
       "   1.0,\n",
       "   0.0,\n",
       "   1.0,\n",
       "   1.0,\n",
       "   0.0]],\n",
       " [['<=50K'],\n",
       "  [50],\n",
       "  [0],\n",
       "  [0],\n",
       "  [13],\n",
       "  [4.0, 4.0, 5.0, 3.0],\n",
       "  [0.0, 3.0, 1.0, 1.0, 1.0, 1.0, 1.0, 1.0],\n",
       "  [8.0, 6.0, 4.0],\n",
       "  [1.0, 1.0, 5.0, 0.0, 0.0, 4.0, 4.0],\n",
       "  [3.0, 2.0, 2.0],\n",
       "  [1.0, 4.0],\n",
       "  [4.0],\n",
       "  [0.0,\n",
       "   0.0,\n",
       "   6.0,\n",
       "   0.0,\n",
       "   1.0,\n",
       "   1.0,\n",
       "   0.0,\n",
       "   0.0,\n",
       "   0.0,\n",
       "   1.0,\n",
       "   0.0,\n",
       "   0.0,\n",
       "   1.0,\n",
       "   0.0,\n",
       "   0.0,\n",
       "   0.0,\n",
       "   1.0,\n",
       "   0.0,\n",
       "   1.0,\n",
       "   1.0,\n",
       "   0.0]],\n",
       " [['<=50K'],\n",
       "  [38],\n",
       "  [0],\n",
       "  [0],\n",
       "  [40],\n",
       "  [1.0, 3.0, 0.0, 3.0],\n",
       "  [2.0, 0.0, 0.0, 1.0, 1.0, 1.0, 1.0, 1.0],\n",
       "  [2.0, 3.0, 3.0],\n",
       "  [2.0, 0.0, 6.0, 0.0, 2.0, 6.0, 1.0],\n",
       "  [4.0, 4.0, 5.0],\n",
       "  [1.0, 4.0],\n",
       "  [4.0],\n",
       "  [0.0,\n",
       "   0.0,\n",
       "   6.0,\n",
       "   0.0,\n",
       "   1.0,\n",
       "   1.0,\n",
       "   0.0,\n",
       "   0.0,\n",
       "   0.0,\n",
       "   1.0,\n",
       "   0.0,\n",
       "   0.0,\n",
       "   1.0,\n",
       "   0.0,\n",
       "   0.0,\n",
       "   0.0,\n",
       "   1.0,\n",
       "   0.0,\n",
       "   1.0,\n",
       "   1.0,\n",
       "   0.0]]]"
      ]
     },
     "execution_count": 47,
     "metadata": {},
     "output_type": "execute_result"
    }
   ],
   "source": [
    "import pyspark.mllib.feature as feat\n",
    "\n",
    "final_data = (\n",
    "    census\n",
    "    .select(cols_to_keep)\n",
    "    .rdd\n",
    "    .map(lambda row: [\n",
    "        list(\n",
    "            feat.HashingTF(int(len_ftrs[col] / 2.0))\n",
    "            .transform(row[i])\n",
    "            .toArray()\n",
    "        ) if i >= 5\n",
    "        else [row[i]] \n",
    "        for i, col in enumerate(cols_to_keep)]\n",
    "    )\n",
    ")\n",
    "\n",
    "final_data.take(3)"
   ]
  },
  {
   "cell_type": "code",
   "execution_count": 49,
   "id": "43bc79bf-6453-4785-adaf-36283513aa63",
   "metadata": {},
   "outputs": [],
   "source": [
    "def labelEncode(label):\n",
    "    return [int(label[0] == '>50K')]\n",
    "\n",
    "final_data = (\n",
    "    final_data\n",
    "    .map(lambda row: labelEncode(row[0]) \n",
    "         + [item \n",
    "            for sublist in row[1:] \n",
    "            for item in sublist]\n",
    "        )\n",
    ")"
   ]
  },
  {
   "cell_type": "code",
   "execution_count": 51,
   "id": "721dc2f5-dd31-454d-8ceb-9830876abffa",
   "metadata": {},
   "outputs": [
    {
     "name": "stderr",
     "output_type": "stream",
     "text": [
      "                                                                                \r"
     ]
    },
    {
     "data": {
      "text/plain": [
       "[(0,\n",
       "  DenseVector([0.0307, 0.1485, -0.2167, -0.0354, 2.1254, -0.8191, 0.6378, -2.2258, -1.08, 1.1674, 0.639, 0.3252, -0.4647, 0.0487, -0.5787, 0.8307, -0.3164, -0.9455, 1.059, -0.4371, -0.4331, -0.7278, -0.2899, -1.1361, 0.9505, 1.3817, 0.9265, 1.1796, 1.4008, -0.2909, -0.1283, -0.7031, -0.1436, -0.1934, 0.3297, -0.0222, 0.3265, 0.3019, -0.0858, -0.1071, 0.0, 0.2601, -0.0543, -0.1384, 0.1693, -0.2117, 0.0, -0.0901, 0.051, -0.0242, 0.3187, 0.043, -0.1431])),\n",
       " (0,\n",
       "  DenseVector([-0.0426, -0.1459, -0.2167, -0.0354, -0.4816, 0.2868, -0.5428, 0.4723, 1.2753, -1.0583, -0.9617, 0.3252, -0.4647, 0.0487, -0.5787, 0.8307, -1.5392, -0.9455, -1.6947, 0.2373, -0.4331, 0.3617, -0.2899, 1.6247, 2.3798, -0.5208, 0.9265, 1.1796, 1.4008, -0.2909, -0.1283, -0.7031, -0.1436, -0.1934, 0.3297, -0.0222, 0.3265, 0.3019, -0.0858, -0.1071, 0.0, 0.2601, -0.0543, -0.1384, 0.1693, -0.2117, 0.0, -0.0901, 0.051, -0.0242, 0.3187, 0.043, -0.1431])),\n",
       " (0,\n",
       "  DenseVector([-0.7758, -0.1459, -0.2167, -0.0354, -0.4816, 0.2868, -0.5428, 0.4723, -1.08, 1.1674, 0.639, 0.3252, -0.4647, 0.0487, -0.5787, 0.8307, 0.9064, 1.0706, -0.3179, 0.2373, -0.4331, 0.7248, -0.2899, 0.2443, 0.2359, -0.5208, -2.7753, -0.8746, -1.4278, 0.5332, -0.8181, 1.4223, -0.1436, 3.9421, -3.891, -0.0222, -3.0327, -3.2602, -0.0858, 9.3402, 0.0, -3.1327, -0.0543, -0.1384, -2.9264, -0.2117, 0.0, 11.1029, -2.9909, -0.0242, -3.1379, 0.043, -0.1431]))]"
      ]
     },
     "execution_count": 51,
     "metadata": {},
     "output_type": "execute_result"
    }
   ],
   "source": [
    "\n",
    "standardizer = feat.StandardScaler(True, True)\n",
    "sModel = standardizer.fit(final_data.map(lambda row: row[1:]))\n",
    "final_data_scaled = sModel.transform(final_data.map(lambda row: row[1:]))\n",
    "\n",
    "final_data = (\n",
    "    final_data\n",
    "    .map(lambda row: row[0])\n",
    "    .zipWithIndex()\n",
    "    .map(lambda row: (row[1], row[0]))\n",
    "    .join(\n",
    "        final_data_scaled\n",
    "        .zipWithIndex()\n",
    "        .map(lambda row: (row[1], row[0]))\n",
    "    )\n",
    "    .map(lambda row: row[1])\n",
    ")\n",
    "\n",
    "final_data.take(3)"
   ]
  },
  {
   "cell_type": "code",
   "execution_count": 53,
   "id": "5a15cc66-e7f6-453f-8133-bf8217aca924",
   "metadata": {},
   "outputs": [
    {
     "data": {
      "text/plain": [
       "(DenseVector([38.5816, 1077.6488, 87.3038, 40.4375, 1.5543, 2.7407, 0.9196, 2.6499, 0.9171, 1.4265, 0.6008, 0.8597, 1.4332, 0.9619, 1.6429, 0.5917, 5.7763, 4.4069, 4.2309, 1.6481, 0.1579, 5.0041, 0.0775, 0.823, 2.6699, 1.8212, 3.2491, 2.8515, 3.0191, 1.353, 4.186, 4.6616, 0.0202, 0.0468, 5.5312, 0.0005, 0.9028, 0.9152, 0.0073, 0.0113, 0.0, 0.9233, 0.0038, 0.0188, 0.9453, 0.0486, 0.0, 0.008, 0.9832, 0.0006, 0.9078, 0.9858, 0.0331]),\n",
       " DenseVector([13.6404, 7385.2921, 402.9602, 12.3474, 1.1507, 0.9042, 1.694, 0.7413, 0.8492, 1.3479, 0.6247, 0.4315, 0.9323, 0.7812, 1.1109, 0.4915, 2.4534, 1.4881, 0.7263, 1.4829, 0.3647, 2.7535, 0.2675, 0.7244, 1.3993, 1.5769, 0.8104, 0.9736, 1.4141, 1.2134, 1.4496, 0.941, 0.1407, 0.2418, 1.4216, 0.0222, 0.2977, 0.2807, 0.0852, 0.1059, 0.0, 0.2947, 0.0706, 0.1358, 0.323, 0.2295, 0.0, 0.0893, 0.3287, 0.0241, 0.2893, 0.3309, 0.2317]))"
      ]
     },
     "execution_count": 53,
     "metadata": {},
     "output_type": "execute_result"
    }
   ],
   "source": [
    "sModel.mean, sModel.std"
   ]
  },
  {
   "cell_type": "code",
   "execution_count": 55,
   "id": "f5473099-837c-47fa-9f62-583121d87984",
   "metadata": {},
   "outputs": [
    {
     "data": {
      "text/plain": [
       "[LabeledPoint(0.0, [0.03067008637999638,0.14845061558793698,-0.2166562000280365,-0.035428902921321385,2.1253604076175487,-0.8191162474391422,0.6377747731414669,-2.2257823875314626,-1.0799837512449586,1.1674000007482537,0.6389894611164895,0.3251568749252254,-0.4646727543295736,0.04874821465282587,-0.5786685813762596,0.8307480441969635,-0.3164213118784984,-0.9454599015180329,1.0589898184549418,-0.4370604222171284,-0.43309553568085,-0.7278380536147465,-0.2899365550040338,-1.1360930863759908,0.9505351394321797,1.3816615961467085,0.9265109390980426,1.179623833658065,1.4008228183818396,-0.2909499987558919,-0.1282833184241006,-0.7030605487269502,-0.14361192904330972,-0.1934362479927198,0.3297437122592278,-0.022172322372396518,0.3265265819196172,0.3019401519298143,-0.08580764411145662,-0.1070613054202921,0.0,0.2600747473046429,-0.05433765529105814,-0.13840137581626044,0.16932585576117493,-0.2116905580599674,0.0,-0.09006362818252112,0.0510078567719009,-0.024162841832971647,0.3186792645007414,0.042976519322717406,-0.1430504047647983]),\n",
       " LabeledPoint(0.0, [-0.04264137174802653,-0.14591824281680124,-0.2166562000280365,-0.035428902921321385,-0.4816462313058653,0.2867942776206087,-0.54284914386921,0.47231896090724024,1.2752857256169512,-1.058283781613595,-0.961728791184951,0.3251568749252254,-0.4646727543295736,0.04874821465282587,-0.5786685813762596,0.8307480441969635,-1.5392318909910017,-0.9454599015180329,-1.6947050768263268,0.23727261454422902,-0.43309553568085,0.3616771571129916,-0.2899365550040338,1.6247343623506618,2.3798165670823703,-0.5207790913967929,0.9265109390980426,1.179623833658065,1.4008228183818396,-0.2909499987558919,-0.1282833184241006,-0.7030605487269502,-0.14361192904330972,-0.1934362479927198,0.3297437122592278,-0.022172322372396518,0.3265265819196172,0.3019401519298143,-0.08580764411145662,-0.1070613054202921,0.0,0.2600747473046429,-0.05433765529105814,-0.13840137581626044,0.16932585576117493,-0.2116905580599674,0.0,-0.09006362818252112,0.0510078567719009,-0.024162841832971647,0.3186792645007414,0.042976519322717406,-0.1430504047647983])]"
      ]
     },
     "execution_count": 55,
     "metadata": {},
     "output_type": "execute_result"
    }
   ],
   "source": [
    "import pyspark.mllib.regression as reg\n",
    "\n",
    "final_data_income = (\n",
    "    final_data\n",
    "    .map(lambda row: reg.LabeledPoint(\n",
    "        row[0]\n",
    "        , row[1]\n",
    "        )\n",
    "    )\n",
    ")\n",
    "final_data_income.take(2)"
   ]
  },
  {
   "cell_type": "code",
   "execution_count": 57,
   "id": "19d06cdd-9971-45ed-a947-87094e059495",
   "metadata": {},
   "outputs": [
    {
     "data": {
      "text/plain": [
       "[LabeledPoint(40.0, [0.0,0.03067008637999638,0.14845061558793698,-0.2166562000280365,2.1253604076175487,-0.8191162474391422,0.6377747731414669,-2.2257823875314626,-1.0799837512449586,1.1674000007482537,0.6389894611164895,0.3251568749252254,-0.4646727543295736,0.04874821465282587,-0.5786685813762596,0.8307480441969635,-0.3164213118784984,-0.9454599015180329,1.0589898184549418,-0.4370604222171284,-0.43309553568085,-0.7278380536147465,-0.2899365550040338,-1.1360930863759908,0.9505351394321797,1.3816615961467085,0.9265109390980426,1.179623833658065,1.4008228183818396,-0.2909499987558919,-0.1282833184241006,-0.7030605487269502,-0.14361192904330972,-0.1934362479927198,0.3297437122592278,-0.022172322372396518,0.3265265819196172,0.3019401519298143,-0.08580764411145662,-0.1070613054202921,0.0,0.2600747473046429,-0.05433765529105814,-0.13840137581626044,0.16932585576117493,-0.2116905580599674,0.0,-0.09006362818252112,0.0510078567719009,-0.024162841832971647,0.3186792645007414,0.042976519322717406,-0.1430504047647983]),\n",
       " LabeledPoint(40.0, [0.0,-0.04264137174802653,-0.14591824281680124,-0.2166562000280365,-0.4816462313058653,0.2867942776206087,-0.54284914386921,0.47231896090724024,1.2752857256169512,-1.058283781613595,-0.961728791184951,0.3251568749252254,-0.4646727543295736,0.04874821465282587,-0.5786685813762596,0.8307480441969635,-1.5392318909910017,-0.9454599015180329,-1.6947050768263268,0.23727261454422902,-0.43309553568085,0.3616771571129916,-0.2899365550040338,1.6247343623506618,2.3798165670823703,-0.5207790913967929,0.9265109390980426,1.179623833658065,1.4008228183818396,-0.2909499987558919,-0.1282833184241006,-0.7030605487269502,-0.14361192904330972,-0.1934362479927198,0.3297437122592278,-0.022172322372396518,0.3265265819196172,0.3019401519298143,-0.08580764411145662,-0.1070613054202921,0.0,0.2600747473046429,-0.05433765529105814,-0.13840137581626044,0.16932585576117493,-0.2116905580599674,0.0,-0.09006362818252112,0.0510078567719009,-0.024162841832971647,0.3186792645007414,0.042976519322717406,-0.1430504047647983])]"
      ]
     },
     "execution_count": 57,
     "metadata": {},
     "output_type": "execute_result"
    }
   ],
   "source": [
    "mu, std = sModel.mean[3], sModel.std[3]\n",
    "\n",
    "final_data_hours = (\n",
    "    final_data\n",
    "    .map(lambda row: reg.LabeledPoint(\n",
    "        row[1][3] * std + mu\n",
    "        , ln.Vectors.dense([row[0]] + list(row[1][0:3]) + list(row[1][4:]))\n",
    "        )\n",
    "    )\n",
    ")\n",
    "final_data_hours.take(2)"
   ]
  },
  {
   "cell_type": "code",
   "execution_count": 59,
   "id": "64fe75ee-6403-41a5-a416-bb1ea88c9fc0",
   "metadata": {},
   "outputs": [],
   "source": [
    "#Splitting into training and testing:\n",
    "\n",
    "(\n",
    "    final_data_income_train\n",
    "    , final_data_income_test\n",
    ") = (\n",
    "    final_data_income.randomSplit([0.7, 0.3])\n",
    ")"
   ]
  },
  {
   "cell_type": "code",
   "execution_count": 63,
   "id": "2576d193-0f2b-49e5-857b-20aeecc44ae3",
   "metadata": {},
   "outputs": [],
   "source": [
    "(\n",
    "    final_data_hours_train\n",
    "    , final_data_hours_test\n",
    ") = (\n",
    "    final_data_hours.randomSplit([0.7, 0.3])\n",
    ")"
   ]
  },
  {
   "cell_type": "code",
   "execution_count": 69,
   "id": "ccbc794c-332e-4d04-9b5e-82e8d741e232",
   "metadata": {},
   "outputs": [],
   "source": [
    "#Linear regression (benchmark):\n",
    "workhours_model_lm = reg.LinearRegressionWithSGD.train(final_data_hours_train)"
   ]
  },
  {
   "cell_type": "code",
   "execution_count": 71,
   "id": "1f112d4c-b271-45d4-bd6a-e0fb13c99541",
   "metadata": {},
   "outputs": [
    {
     "name": "stdout",
     "output_type": "stream",
     "text": [
      "16.0 6.830853457539442\n",
      "50.0 47.24771075208423\n",
      "30.0 -1.2896479190769061\n",
      "50.0 -5.99987511758531\n",
      "40.0 11.62883926225445\n",
      "40.0 3.232449040664951\n",
      "80.0 10.2378245908929\n",
      "50.0 -9.462018121270566\n",
      "38.0 -5.113835478205115\n",
      "60.0 23.86803758181617\n"
     ]
    }
   ],
   "source": [
    "small_sample_hours = sc.parallelize(final_data_hours_test.take(10))\n",
    "\n",
    "for t,p in zip(\n",
    "    small_sample_hours\n",
    "        .map(lambda row: row.label)\n",
    "        .collect()\n",
    "    , workhours_model_lm.predict(\n",
    "        small_sample_hours\n",
    "            .map(lambda row: row.features)\n",
    "    ).collect()):\n",
    "    print(t,p)"
   ]
  },
  {
   "cell_type": "code",
   "execution_count": 73,
   "id": "9ad54741-a127-420b-ae8a-6c8b89da95da",
   "metadata": {},
   "outputs": [
    {
     "data": {
      "text/plain": [
       "DenseVector([54.2342, -3.0148, -2.9833, -1.8618, -0.447, -0.9443, 1.6672, 1.3634, 3.8812, -0.754, 1.2213, -2.8573, -1.9288, -2.7053, -0.8999, -1.5485, -0.6618, -3.1688, -0.1348, 2.1113, -1.7397, -0.3638, 0.6162, 1.7695, -0.2258, 2.8457, -0.1653, -0.2064, 3.855, 0.6009, -0.2912, -0.9782, -0.1446, 0.6608, 0.5371, 0.066, 0.0094, 0.0675, -0.0226, 0.1218, 0.0, 0.0754, 0.4457, 0.3121, -0.064, 0.5337, 0.0, 0.0363, -0.2317, -0.0262, -0.3481, -0.2478, -0.0437])"
      ]
     },
     "execution_count": 73,
     "metadata": {},
     "output_type": "execute_result"
    }
   ],
   "source": [
    "workhours_model_lm.weights"
   ]
  },
  {
   "cell_type": "code",
   "execution_count": 75,
   "id": "fbfe18a2-6adf-468c-8470-76783f774bc6",
   "metadata": {},
   "outputs": [
    {
     "name": "stderr",
     "output_type": "stream",
     "text": [
      "/Users/enginsan/anaconda3/lib/python3.11/site-packages/pyspark/mllib/classification.py:395: FutureWarning: Deprecated in 2.0.0. Use ml.classification.LogisticRegression or LogisticRegressionWithLBFGS.\n",
      "  warnings.warn(\n"
     ]
    }
   ],
   "source": [
    "#Logistic regression:\n",
    "import pyspark.mllib.classification as cl\n",
    "\n",
    "income_model_lr = cl.LogisticRegressionWithSGD.train(final_data_income_train)"
   ]
  },
  {
   "cell_type": "code",
   "execution_count": 77,
   "id": "62c03702-db48-46a3-b636-9d9379fabfce",
   "metadata": {},
   "outputs": [
    {
     "name": "stdout",
     "output_type": "stream",
     "text": [
      "1.0 1\n",
      "1.0 1\n",
      "1.0 1\n",
      "0.0 0\n",
      "0.0 1\n",
      "0.0 0\n",
      "0.0 1\n",
      "1.0 1\n",
      "0.0 0\n",
      "0.0 1\n"
     ]
    }
   ],
   "source": [
    "small_sample_income = sc.parallelize(final_data_income_test.take(10))\n",
    "\n",
    "for t,p in zip(\n",
    "    small_sample_income\n",
    "        .map(lambda row: row.label)\n",
    "        .collect()\n",
    "    , income_model_lr.predict(\n",
    "        small_sample_income\n",
    "            .map(lambda row: row.features)\n",
    "    ).collect()):\n",
    "    print(t,p)"
   ]
  },
  {
   "cell_type": "code",
   "execution_count": 79,
   "id": "2d91ade1-b0d3-421c-9634-7889ffbf551f",
   "metadata": {},
   "outputs": [
    {
     "data": {
      "text/plain": [
       "0.5"
      ]
     },
     "execution_count": 79,
     "metadata": {},
     "output_type": "execute_result"
    }
   ],
   "source": [
    "income_model_lr.threshold"
   ]
  },
  {
   "cell_type": "code",
   "execution_count": 81,
   "id": "22b3f272-a2e7-41f7-a8fe-c3490f407b29",
   "metadata": {},
   "outputs": [
    {
     "data": {
      "text/plain": [
       "DenseVector([0.1799, 0.7504, 0.2263, 0.2169, 0.0315, 0.0048, -0.0204, 0.0085, -0.307, 0.0893, -0.0137, 0.2225, 0.0742, 0.1643, 0.121, 0.2405, 0.1814, 0.2651, -0.109, -0.1053, 0.2143, 0.0099, -0.0604, -0.0604, 0.0592, -0.1135, -0.0554, -0.107, -0.0902, -0.0421, 0.0133, -0.1062, 0.0138, -0.0542, 0.0137, 0.0007, -0.0134, 0.0083, -0.0055, 0.0127, 0.0, -0.0019, -0.0022, -0.0078, 0.0068, -0.0042, 0.0, -0.0115, 0.0057, -0.0107, 0.0182, 0.011, 0.0051])"
      ]
     },
     "execution_count": 81,
     "metadata": {},
     "output_type": "execute_result"
    }
   ],
   "source": [
    "income_model_lr.weights"
   ]
  },
  {
   "cell_type": "code",
   "execution_count": 83,
   "id": "3f18f7a7-943f-435c-922c-3cc0f4a09bc0",
   "metadata": {},
   "outputs": [
    {
     "name": "stderr",
     "output_type": "stream",
     "text": [
      "24/09/17 11:06:37 WARN GradientDescent: Testing against a convergenceTol when using miniBatchFraction < 1.0 can be unstable because of the stochasticity in sampling.\n"
     ]
    }
   ],
   "source": [
    "#Support Vector Machines\n",
    "income_model_svm = cl.SVMWithSGD.train(\n",
    "    final_data_income\n",
    "#     , step=0.95\n",
    "    , miniBatchFraction=1/2.0\n",
    ")"
   ]
  },
  {
   "cell_type": "code",
   "execution_count": 85,
   "id": "661a6b69-ef8e-487a-866e-dced2da41641",
   "metadata": {},
   "outputs": [
    {
     "name": "stdout",
     "output_type": "stream",
     "text": [
      "1.0 1\n",
      "1.0 1\n",
      "1.0 1\n",
      "0.0 0\n",
      "0.0 0\n",
      "0.0 0\n",
      "0.0 1\n",
      "1.0 1\n",
      "0.0 1\n",
      "0.0 1\n"
     ]
    }
   ],
   "source": [
    "for t,p in zip(\n",
    "    small_sample_income\n",
    "        .map(lambda row: row.label)\n",
    "        .collect()\n",
    "    , income_model_svm.predict(\n",
    "        small_sample_income\n",
    "            .map(lambda row: row.features)\n",
    "    ).collect()):\n",
    "    print(t,p)"
   ]
  },
  {
   "cell_type": "code",
   "execution_count": 87,
   "id": "0320dd69-2603-41e0-beef-67a3e0657762",
   "metadata": {},
   "outputs": [
    {
     "data": {
      "text/plain": [
       "DenseVector([0.0804, 1.0427, 0.122, 0.0509, 0.0244, 0.0036, -0.0141, 0.0248, -0.2197, -0.017, -0.1458, 0.1318, 0.1196, 0.1345, 0.1432, 0.1314, 0.2342, 0.4894, -0.109, -0.0688, 0.0823, 0.0114, -0.0348, -0.0548, 0.0098, -0.0755, 0.0157, -0.0475, -0.0793, -0.0283, 0.0199, -0.0304, 0.0082, -0.0535, 0.0052, 0.0033, -0.0072, -0.0012, -0.0095, 0.0089, 0.0, 0.0025, 0.0001, 0.0118, 0.0289, -0.0189, 0.0, 0.0049, -0.0247, -0.0131, 0.0311, 0.0147, 0.0109])"
      ]
     },
     "execution_count": 87,
     "metadata": {},
     "output_type": "execute_result"
    }
   ],
   "source": [
    "income_model_svm.weights"
   ]
  },
  {
   "cell_type": "code",
   "execution_count": 89,
   "id": "ece53ef8-4a5b-48ed-b0ac-def5a762595d",
   "metadata": {},
   "outputs": [],
   "source": [
    "#Clustering Model with Kmeans:\n",
    "import pyspark.mllib.clustering as clu\n",
    "\n",
    "model_km = clu.KMeans.train(\n",
    "    final_data.map(lambda row: row[1])\n",
    "    , 2\n",
    "    , initializationMode='random'\n",
    "    , seed=666\n",
    ")"
   ]
  },
  {
   "cell_type": "code",
   "execution_count": 91,
   "id": "58bcbacd-0d54-4608-8db2-0b972d34f4a0",
   "metadata": {},
   "outputs": [
    {
     "name": "stdout",
     "output_type": "stream",
     "text": [
      "0.19319268237882328\n",
      "0.15462507440834927\n"
     ]
    }
   ],
   "source": [
    "import sklearn.metrics as m\n",
    "\n",
    "predicted = (\n",
    "    model_km\n",
    "        .predict(\n",
    "            final_data.map(lambda row: row[1])\n",
    "        )\n",
    ")\n",
    "predicted = predicted.collect()\n",
    "\n",
    "true = final_data.map(lambda row: row[0]).collect()\n",
    "\n",
    "print(m.homogeneity_score(true, predicted))\n",
    "print(m.completeness_score(true, predicted))"
   ]
  },
  {
   "cell_type": "code",
   "execution_count": 93,
   "id": "e6cb864e-0f33-4690-97b3-296417f32709",
   "metadata": {},
   "outputs": [],
   "source": [
    "#Model Metrics:\n",
    "import pyspark.mllib.evaluation as ev"
   ]
  },
  {
   "cell_type": "code",
   "execution_count": 95,
   "id": "62736d05-560f-424f-9c74-849010e8a6fe",
   "metadata": {},
   "outputs": [
    {
     "name": "stderr",
     "output_type": "stream",
     "text": [
      "/Users/enginsan/anaconda3/lib/python3.11/site-packages/pyspark/sql/context.py:158: FutureWarning: Deprecated in 3.0.0. Use SparkSession.builder.getOrCreate() instead.\n",
      "  warnings.warn(\n"
     ]
    }
   ],
   "source": [
    "true_pred_reg = (\n",
    "    final_data_hours_test\n",
    "    .map(lambda row: (\n",
    "         float(workhours_model_lm.predict(row.features))\n",
    "         , row.label))\n",
    ")\n",
    "\n",
    "metrics_lm = ev.RegressionMetrics(true_pred_reg)"
   ]
  },
  {
   "cell_type": "code",
   "execution_count": 97,
   "id": "eeb4c178-d89e-4868-a660-8a9128cca7ce",
   "metadata": {},
   "outputs": [
    {
     "name": "stdout",
     "output_type": "stream",
     "text": [
      "R^2:  -6.944539336445464\n",
      "Explained Variance:  1132.7045961809145\n",
      "meanAbsoluteError:  29.632095551910552\n"
     ]
    }
   ],
   "source": [
    "print('R^2: ', metrics_lm.r2)\n",
    "print('Explained Variance: ', metrics_lm.explainedVariance)\n",
    "print('meanAbsoluteError: ', metrics_lm.meanAbsoluteError)"
   ]
  },
  {
   "cell_type": "code",
   "execution_count": 99,
   "id": "8b156cbc-1375-4d31-b792-8c14b0c7fb1f",
   "metadata": {},
   "outputs": [
    {
     "name": "stdout",
     "output_type": "stream",
     "text": [
      "areaUnderPR:  0.4505040192340204\n",
      "areaUnderROC:  0.7858291201765141\n"
     ]
    }
   ],
   "source": [
    "\n",
    "true_pred_class_lr = (\n",
    "    final_data_income_test\n",
    "    .map(lambda row: (\n",
    "        float(income_model_lr.predict(row.features))\n",
    "        , row.label))\n",
    ")\n",
    "\n",
    "metrics_lr = ev.BinaryClassificationMetrics(true_pred_class_lr)\n",
    "\n",
    "print('areaUnderPR: ', metrics_lr.areaUnderPR)\n",
    "print('areaUnderROC: ', metrics_lr.areaUnderROC)"
   ]
  },
  {
   "cell_type": "code",
   "execution_count": 101,
   "id": "0fc19ce8-8a1f-47cd-a312-f171e08a199d",
   "metadata": {},
   "outputs": [
    {
     "name": "stdout",
     "output_type": "stream",
     "text": [
      "Training Error = 0.27834841859046067\n"
     ]
    }
   ],
   "source": [
    "trainErr = (\n",
    "    true_pred_class_lr\n",
    "    .filter(lambda lp: lp[0] != lp[1]).count() \n",
    "    / float(true_pred_class_lr.count())\n",
    ")\n",
    "print(\"Training Error = \" + str(trainErr))"
   ]
  },
  {
   "cell_type": "code",
   "execution_count": 103,
   "id": "e656ab71-8212-48f3-9896-518c9b3664c2",
   "metadata": {},
   "outputs": [
    {
     "name": "stdout",
     "output_type": "stream",
     "text": [
      "areaUnderPR:  0.44818795160982283\n",
      "areaUnderROC:  0.7795946326911545\n"
     ]
    }
   ],
   "source": [
    "true_pred_class_svm = (\n",
    "    final_data_income_test\n",
    "    .map(lambda row: (\n",
    "        float(income_model_svm.predict(row.features))\n",
    "        , row.label))\n",
    ")\n",
    "\n",
    "metrics_svm = ev.BinaryClassificationMetrics(true_pred_class_svm)\n",
    "\n",
    "print('areaUnderPR: ', metrics_svm.areaUnderPR)\n",
    "print('areaUnderROC: ', metrics_svm.areaUnderROC)"
   ]
  },
  {
   "cell_type": "code",
   "execution_count": 105,
   "id": "18156b23-63bd-4137-b4c2-3a597bdcf654",
   "metadata": {},
   "outputs": [
    {
     "name": "stdout",
     "output_type": "stream",
     "text": [
      "Training Error = 0.2777382284145225\n"
     ]
    }
   ],
   "source": [
    "trainErr = (\n",
    "    true_pred_class_svm\n",
    "    .filter(lambda lp: lp[0] != lp[1]).count() \n",
    "    / float(true_pred_class_svm.count())\n",
    ")\n",
    "\n",
    "print(\"Training Error = \" + str(trainErr))"
   ]
  },
  {
   "cell_type": "code",
   "execution_count": null,
   "id": "cd00101c-f416-4b9e-afd3-23de303f1341",
   "metadata": {},
   "outputs": [],
   "source": [
    "#Confusion matrix:"
   ]
  },
  {
   "cell_type": "code",
   "execution_count": 107,
   "id": "103ed228-1abb-40ba-9a99-9f696894f5d2",
   "metadata": {},
   "outputs": [
    {
     "data": {
      "text/plain": [
       "[((1.0, 1.0), 2153), ((0.0, 0.0), 4943), ((1.0, 0.0), 2523), ((0.0, 1.0), 214)]"
      ]
     },
     "execution_count": 107,
     "metadata": {},
     "output_type": "execute_result"
    }
   ],
   "source": [
    "(\n",
    "    true_pred_class_lr\n",
    "    .map(lambda el: ((el), 1))\n",
    "    .reduceByKey(lambda x,y: x+y)\n",
    "    .take(4)\n",
    ")"
   ]
  },
  {
   "cell_type": "code",
   "execution_count": 109,
   "id": "e832e66b-9aed-43f1-b4f2-0917efa50e9e",
   "metadata": {},
   "outputs": [
    {
     "data": {
      "text/plain": [
       "[((1.0, 1.0), 2107), ((0.0, 0.0), 4995), ((1.0, 0.0), 2471), ((0.0, 1.0), 260)]"
      ]
     },
     "execution_count": 109,
     "metadata": {},
     "output_type": "execute_result"
    }
   ],
   "source": [
    "(\n",
    "    true_pred_class_svm\n",
    "    .map(lambda el: ((el), 1))\n",
    "    .reduceByKey(lambda x,y: x+y)\n",
    "    .take(4)\n",
    ")"
   ]
  }
 ],
 "metadata": {
  "kernelspec": {
   "display_name": "Python 3 (ipykernel)",
   "language": "python",
   "name": "python3"
  },
  "language_info": {
   "codemirror_mode": {
    "name": "ipython",
    "version": 3
   },
   "file_extension": ".py",
   "mimetype": "text/x-python",
   "name": "python",
   "nbconvert_exporter": "python",
   "pygments_lexer": "ipython3",
   "version": "3.11.5"
  }
 },
 "nbformat": 4,
 "nbformat_minor": 5
}
