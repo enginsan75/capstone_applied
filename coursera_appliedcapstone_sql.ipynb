{
 "cells": [
  {
   "cell_type": "markdown",
   "id": "7df2d61b-177a-4368-b175-5d9770c026cb",
   "metadata": {},
   "source": [
    "<p style=\"text-align:center\">\n",
    "    <a href=\"https://skills.network\" target=\"_blank\">\n",
    "    <img src=\"https://cf-courses-data.s3.us.cloud-object-storage.appdomain.cloud/assets/logos/SN_web_lightmode.png\" width=\"200\" alt=\"Skills Network Logo\">\n",
    "    </a>\n",
    "</p>\n",
    "\n",
    "<h1 align=center><font size = 5>Assignment: SQL Notebook for Peer Assignment</font></h1>\n",
    "\n",
    "Estimated time needed: **60** minutes.\n",
    "\n",
    "## Introduction\n",
    "Using this Python notebook you will:\n",
    "\n",
    "1.  Understand the Spacex DataSet\n",
    "2.  Load the dataset  into the corresponding table in a Db2 database\n",
    "3.  Execute SQL queries to answer assignment questions "
   ]
  },
  {
   "cell_type": "code",
   "execution_count": null,
   "id": "ce16099b-c735-4454-ad07-d70b1c7862c9",
   "metadata": {},
   "outputs": [],
   "source": []
  },
  {
   "cell_type": "markdown",
   "id": "3ae7bc57-9fac-4898-9d04-06e31b306f04",
   "metadata": {},
   "source": [
    "### Connect to the database\n",
    "\n",
    "Let us first load the SQL extension and establish a connection with the database"
   ]
  },
  {
   "cell_type": "code",
   "execution_count": 3,
   "id": "1a011924-230e-40f5-9d95-b20b7ac5ed42",
   "metadata": {
    "tags": []
   },
   "outputs": [
    {
     "name": "stdout",
     "output_type": "stream",
     "text": [
      "Collecting jupysql\n",
      "  Downloading jupysql-0.10.7-py3-none-any.whl.metadata (5.6 kB)\n",
      "Collecting prettytable (from jupysql)\n",
      "  Downloading prettytable-3.9.0-py3-none-any.whl.metadata (26 kB)\n",
      "Requirement already satisfied: sqlalchemy in /Users/enginsan/anaconda3/envs/eng_new/lib/python3.11/site-packages (from jupysql) (1.4.51)\n",
      "Requirement already satisfied: sqlparse in /Users/enginsan/anaconda3/envs/eng_new/lib/python3.11/site-packages (from jupysql) (0.4.4)\n",
      "Requirement already satisfied: ipython-genutils>=0.1.0 in /Users/enginsan/anaconda3/envs/eng_new/lib/python3.11/site-packages (from jupysql) (0.2.0)\n",
      "Requirement already satisfied: jinja2 in /Users/enginsan/anaconda3/envs/eng_new/lib/python3.11/site-packages (from jupysql) (3.1.2)\n",
      "Collecting sqlglot>=11.3.7 (from jupysql)\n",
      "  Downloading sqlglot-20.8.0-py3-none-any.whl.metadata (16 kB)\n",
      "Collecting ploomber-core>=0.2.7 (from jupysql)\n",
      "  Downloading ploomber_core-0.2.22-py3-none-any.whl.metadata (536 bytes)\n",
      "Collecting jupysql-plugin (from jupysql)\n",
      "  Downloading jupysql_plugin-0.4.0-py3-none-any.whl.metadata (7.7 kB)\n",
      "Requirement already satisfied: pyyaml in /Users/enginsan/anaconda3/envs/eng_new/lib/python3.11/site-packages (from ploomber-core>=0.2.7->jupysql) (6.0.1)\n",
      "Collecting posthog (from ploomber-core>=0.2.7->jupysql)\n",
      "  Downloading posthog-3.3.1-py2.py3-none-any.whl.metadata (2.0 kB)\n",
      "Requirement already satisfied: MarkupSafe>=2.0 in /Users/enginsan/anaconda3/envs/eng_new/lib/python3.11/site-packages (from jinja2->jupysql) (2.1.3)\n",
      "Requirement already satisfied: wcwidth in /Users/enginsan/anaconda3/envs/eng_new/lib/python3.11/site-packages (from prettytable->jupysql) (0.2.5)\n",
      "Requirement already satisfied: requests<3.0,>=2.7 in /Users/enginsan/anaconda3/envs/eng_new/lib/python3.11/site-packages (from posthog->ploomber-core>=0.2.7->jupysql) (2.31.0)\n",
      "Requirement already satisfied: six>=1.5 in /Users/enginsan/anaconda3/envs/eng_new/lib/python3.11/site-packages (from posthog->ploomber-core>=0.2.7->jupysql) (1.16.0)\n",
      "Collecting monotonic>=1.5 (from posthog->ploomber-core>=0.2.7->jupysql)\n",
      "  Using cached monotonic-1.6-py2.py3-none-any.whl (8.2 kB)\n",
      "Collecting backoff>=1.10.0 (from posthog->ploomber-core>=0.2.7->jupysql)\n",
      "  Using cached backoff-2.2.1-py3-none-any.whl (15 kB)\n",
      "Requirement already satisfied: python-dateutil>2.1 in /Users/enginsan/anaconda3/envs/eng_new/lib/python3.11/site-packages (from posthog->ploomber-core>=0.2.7->jupysql) (2.8.2)\n",
      "Requirement already satisfied: charset-normalizer<4,>=2 in /Users/enginsan/anaconda3/envs/eng_new/lib/python3.11/site-packages (from requests<3.0,>=2.7->posthog->ploomber-core>=0.2.7->jupysql) (2.0.4)\n",
      "Requirement already satisfied: idna<4,>=2.5 in /Users/enginsan/anaconda3/envs/eng_new/lib/python3.11/site-packages (from requests<3.0,>=2.7->posthog->ploomber-core>=0.2.7->jupysql) (3.4)\n",
      "Requirement already satisfied: urllib3<3,>=1.21.1 in /Users/enginsan/anaconda3/envs/eng_new/lib/python3.11/site-packages (from requests<3.0,>=2.7->posthog->ploomber-core>=0.2.7->jupysql) (1.26.18)\n",
      "Requirement already satisfied: certifi>=2017.4.17 in /Users/enginsan/anaconda3/envs/eng_new/lib/python3.11/site-packages (from requests<3.0,>=2.7->posthog->ploomber-core>=0.2.7->jupysql) (2023.11.17)\n",
      "Downloading jupysql-0.10.7-py3-none-any.whl (93 kB)\n",
      "\u001b[2K   \u001b[90m━━━━━━━━━━━━━━━━━━━━━━━━━━━━━━━━━━━━━━━━\u001b[0m \u001b[32m93.3/93.3 kB\u001b[0m \u001b[31m602.9 kB/s\u001b[0m eta \u001b[36m0:00:00\u001b[0ma \u001b[36m0:00:01\u001b[0m\n",
      "\u001b[?25hDownloading ploomber_core-0.2.22-py3-none-any.whl (22 kB)\n",
      "Downloading sqlglot-20.8.0-py3-none-any.whl (350 kB)\n",
      "\u001b[2K   \u001b[90m━━━━━━━━━━━━━━━━━━━━━━━━━━━━━━━━━━━━━━━\u001b[0m \u001b[32m350.6/350.6 kB\u001b[0m \u001b[31m713.8 kB/s\u001b[0m eta \u001b[36m0:00:00\u001b[0m00:01\u001b[0m00:01\u001b[0m\n",
      "\u001b[?25hDownloading jupysql_plugin-0.4.0-py3-none-any.whl (414 kB)\n",
      "\u001b[2K   \u001b[90m━━━━━━━━━━━━━━━━━━━━━━━━━━━━━━━━━━━━━━━\u001b[0m \u001b[32m414.3/414.3 kB\u001b[0m \u001b[31m868.3 kB/s\u001b[0m eta \u001b[36m0:00:00\u001b[0ma \u001b[36m0:00:01\u001b[0m\n",
      "\u001b[?25hDownloading prettytable-3.9.0-py3-none-any.whl (27 kB)\n",
      "Downloading posthog-3.3.1-py2.py3-none-any.whl (40 kB)\n",
      "\u001b[2K   \u001b[90m━━━━━━━━━━━━━━━━━━━━━━━━━━━━━━━━━━━━━━━━\u001b[0m \u001b[32m40.6/40.6 kB\u001b[0m \u001b[31m746.6 kB/s\u001b[0m eta \u001b[36m0:00:00\u001b[0m--:--\u001b[0m\n",
      "\u001b[?25hInstalling collected packages: monotonic, sqlglot, prettytable, backoff, posthog, ploomber-core, jupysql-plugin, jupysql\n",
      "Successfully installed backoff-2.2.1 jupysql-0.10.7 jupysql-plugin-0.4.0 monotonic-1.6 ploomber-core-0.2.22 posthog-3.3.1 prettytable-3.9.0 sqlglot-20.8.0\n"
     ]
    }
   ],
   "source": [
    "!pip install jupysql"
   ]
  },
  {
   "cell_type": "code",
   "execution_count": 1,
   "id": "ef13d2eb-e3df-4174-a815-39892f2d6359",
   "metadata": {
    "tags": []
   },
   "outputs": [
    {
     "name": "stdout",
     "output_type": "stream",
     "text": [
      "\u001b[32mDeploy AI and data apps for free on Ploomber Cloud! Learn more: https://docs.cloud.ploomber.io/en/latest/quickstart/signup.html\u001b[0m\n"
     ]
    }
   ],
   "source": [
    "%load_ext sql"
   ]
  },
  {
   "cell_type": "code",
   "execution_count": 2,
   "id": "ff1dc645-8a97-4cbe-9c0b-2868972eac83",
   "metadata": {
    "tags": []
   },
   "outputs": [
    {
     "name": "stdout",
     "output_type": "stream",
     "text": [
      "<sqlite3.Connection object at 0x1337495d0>\n"
     ]
    }
   ],
   "source": [
    "import csv, sqlite3\n",
    "\n",
    "con = sqlite3.connect(\"my_data1.db\")\n",
    "cur = con.cursor()\n",
    "print(con)\n"
   ]
  },
  {
   "cell_type": "code",
   "execution_count": 3,
   "id": "e8e90d73-f6dd-4a82-94fb-c5f2b374c081",
   "metadata": {
    "tags": []
   },
   "outputs": [
    {
     "data": {
      "text/html": [
       "<span style=\"None\">Connecting to &#x27;sqlite:///my_data1.db&#x27;</span>"
      ],
      "text/plain": [
       "Connecting to 'sqlite:///my_data1.db'"
      ]
     },
     "metadata": {},
     "output_type": "display_data"
    }
   ],
   "source": [
    "%sql sqlite:///my_data1.db"
   ]
  },
  {
   "cell_type": "code",
   "execution_count": 4,
   "id": "00178025-5e79-4878-97bb-1003e29b5ed2",
   "metadata": {
    "tags": []
   },
   "outputs": [
    {
     "data": {
      "text/plain": [
       "101"
      ]
     },
     "execution_count": 4,
     "metadata": {},
     "output_type": "execute_result"
    }
   ],
   "source": [
    "import pandas as pd\n",
    "df = pd.read_csv(\"https://cf-courses-data.s3.us.cloud-object-storage.appdomain.cloud/IBM-DS0321EN-SkillsNetwork/labs/module_2/data/Spacex.csv\")\n",
    "df.to_sql(\"SPACEXTBL\", con, if_exists='replace', index=False,method=\"multi\")"
   ]
  },
  {
   "cell_type": "code",
   "execution_count": 5,
   "id": "33d42e86-b7a4-4299-9efc-2fa16be27abe",
   "metadata": {
    "tags": []
   },
   "outputs": [
    {
     "data": {
      "text/html": [
       "<div>\n",
       "<style scoped>\n",
       "    .dataframe tbody tr th:only-of-type {\n",
       "        vertical-align: middle;\n",
       "    }\n",
       "\n",
       "    .dataframe tbody tr th {\n",
       "        vertical-align: top;\n",
       "    }\n",
       "\n",
       "    .dataframe thead th {\n",
       "        text-align: right;\n",
       "    }\n",
       "</style>\n",
       "<table border=\"1\" class=\"dataframe\">\n",
       "  <thead>\n",
       "    <tr style=\"text-align: right;\">\n",
       "      <th></th>\n",
       "      <th>Date</th>\n",
       "      <th>Time (UTC)</th>\n",
       "      <th>Booster_Version</th>\n",
       "      <th>Launch_Site</th>\n",
       "      <th>Payload</th>\n",
       "      <th>PAYLOAD_MASS__KG_</th>\n",
       "      <th>Orbit</th>\n",
       "      <th>Customer</th>\n",
       "      <th>Mission_Outcome</th>\n",
       "      <th>Landing_Outcome</th>\n",
       "    </tr>\n",
       "  </thead>\n",
       "  <tbody>\n",
       "    <tr>\n",
       "      <th>0</th>\n",
       "      <td>2010-06-04</td>\n",
       "      <td>18:45:00</td>\n",
       "      <td>F9 v1.0  B0003</td>\n",
       "      <td>CCAFS LC-40</td>\n",
       "      <td>Dragon Spacecraft Qualification Unit</td>\n",
       "      <td>0</td>\n",
       "      <td>LEO</td>\n",
       "      <td>SpaceX</td>\n",
       "      <td>Success</td>\n",
       "      <td>Failure (parachute)</td>\n",
       "    </tr>\n",
       "    <tr>\n",
       "      <th>1</th>\n",
       "      <td>2010-12-08</td>\n",
       "      <td>15:43:00</td>\n",
       "      <td>F9 v1.0  B0004</td>\n",
       "      <td>CCAFS LC-40</td>\n",
       "      <td>Dragon demo flight C1, two CubeSats, barrel of...</td>\n",
       "      <td>0</td>\n",
       "      <td>LEO (ISS)</td>\n",
       "      <td>NASA (COTS) NRO</td>\n",
       "      <td>Success</td>\n",
       "      <td>Failure (parachute)</td>\n",
       "    </tr>\n",
       "    <tr>\n",
       "      <th>2</th>\n",
       "      <td>2012-05-22</td>\n",
       "      <td>7:44:00</td>\n",
       "      <td>F9 v1.0  B0005</td>\n",
       "      <td>CCAFS LC-40</td>\n",
       "      <td>Dragon demo flight C2</td>\n",
       "      <td>525</td>\n",
       "      <td>LEO (ISS)</td>\n",
       "      <td>NASA (COTS)</td>\n",
       "      <td>Success</td>\n",
       "      <td>No attempt</td>\n",
       "    </tr>\n",
       "    <tr>\n",
       "      <th>3</th>\n",
       "      <td>2012-10-08</td>\n",
       "      <td>0:35:00</td>\n",
       "      <td>F9 v1.0  B0006</td>\n",
       "      <td>CCAFS LC-40</td>\n",
       "      <td>SpaceX CRS-1</td>\n",
       "      <td>500</td>\n",
       "      <td>LEO (ISS)</td>\n",
       "      <td>NASA (CRS)</td>\n",
       "      <td>Success</td>\n",
       "      <td>No attempt</td>\n",
       "    </tr>\n",
       "    <tr>\n",
       "      <th>4</th>\n",
       "      <td>2013-03-01</td>\n",
       "      <td>15:10:00</td>\n",
       "      <td>F9 v1.0  B0007</td>\n",
       "      <td>CCAFS LC-40</td>\n",
       "      <td>SpaceX CRS-2</td>\n",
       "      <td>677</td>\n",
       "      <td>LEO (ISS)</td>\n",
       "      <td>NASA (CRS)</td>\n",
       "      <td>Success</td>\n",
       "      <td>No attempt</td>\n",
       "    </tr>\n",
       "  </tbody>\n",
       "</table>\n",
       "</div>"
      ],
      "text/plain": [
       "         Date Time (UTC) Booster_Version  Launch_Site  \\\n",
       "0  2010-06-04   18:45:00  F9 v1.0  B0003  CCAFS LC-40   \n",
       "1  2010-12-08   15:43:00  F9 v1.0  B0004  CCAFS LC-40   \n",
       "2  2012-05-22    7:44:00  F9 v1.0  B0005  CCAFS LC-40   \n",
       "3  2012-10-08    0:35:00  F9 v1.0  B0006  CCAFS LC-40   \n",
       "4  2013-03-01   15:10:00  F9 v1.0  B0007  CCAFS LC-40   \n",
       "\n",
       "                                             Payload  PAYLOAD_MASS__KG_  \\\n",
       "0               Dragon Spacecraft Qualification Unit                  0   \n",
       "1  Dragon demo flight C1, two CubeSats, barrel of...                  0   \n",
       "2                              Dragon demo flight C2                525   \n",
       "3                                       SpaceX CRS-1                500   \n",
       "4                                       SpaceX CRS-2                677   \n",
       "\n",
       "       Orbit         Customer Mission_Outcome      Landing_Outcome  \n",
       "0        LEO           SpaceX         Success  Failure (parachute)  \n",
       "1  LEO (ISS)  NASA (COTS) NRO         Success  Failure (parachute)  \n",
       "2  LEO (ISS)      NASA (COTS)         Success           No attempt  \n",
       "3  LEO (ISS)       NASA (CRS)         Success           No attempt  \n",
       "4  LEO (ISS)       NASA (CRS)         Success           No attempt  "
      ]
     },
     "execution_count": 5,
     "metadata": {},
     "output_type": "execute_result"
    }
   ],
   "source": [
    "df.head()"
   ]
  },
  {
   "cell_type": "markdown",
   "id": "acd83777-872b-412e-88e1-51c1f136f076",
   "metadata": {},
   "source": [
    "**Note:This below code is added to remove blank rows from table**"
   ]
  },
  {
   "cell_type": "code",
   "execution_count": 6,
   "id": "25f432c3-bd18-4a1f-b440-300a7c5d330d",
   "metadata": {
    "tags": []
   },
   "outputs": [
    {
     "data": {
      "text/html": [
       "<span style=\"None\">Running query in &#x27;sqlite:///my_data1.db&#x27;</span>"
      ],
      "text/plain": [
       "Running query in 'sqlite:///my_data1.db'"
      ]
     },
     "metadata": {},
     "output_type": "display_data"
    },
    {
     "name": "stderr",
     "output_type": "stream",
     "text": [
      "RuntimeError: (sqlite3.OperationalError) table SPACEXTABLE already exists\n",
      "[SQL: create table SPACEXTABLE as select * from SPACEXTBL where Date is not null]\n",
      "(Background on this error at: https://sqlalche.me/e/14/e3q8)\n",
      "If you need help solving this issue, send us a message: https://ploomber.io/community\n"
     ]
    }
   ],
   "source": [
    "%sql create table SPACEXTABLE as select * from SPACEXTBL where Date is not null"
   ]
  },
  {
   "cell_type": "markdown",
   "id": "131bf743-b361-4f67-85f3-ff6756a54fbf",
   "metadata": {},
   "source": [
    "## Tasks\n",
    "\n",
    "Now write and execute SQL queries to solve the assignment tasks.\n",
    "\n",
    "**Note: If the column names are in mixed case enclose it in double quotes\n",
    "   For Example \"Landing_Outcome\"**\n",
    "\n",
    "### Task 1\n",
    "\n",
    "\n",
    "\n",
    "\n",
    "##### Display the names of the unique launch sites  in the space mission"
   ]
  },
  {
   "cell_type": "code",
   "execution_count": 7,
   "id": "f3435505-d2c0-467a-95da-9ca715d91ded",
   "metadata": {
    "tags": []
   },
   "outputs": [
    {
     "data": {
      "text/html": [
       "<span style=\"None\">Running query in &#x27;sqlite:///my_data1.db&#x27;</span>"
      ],
      "text/plain": [
       "Running query in 'sqlite:///my_data1.db'"
      ]
     },
     "metadata": {},
     "output_type": "display_data"
    },
    {
     "data": {
      "text/html": [
       "<table>\n",
       "    <thead>\n",
       "        <tr>\n",
       "            <th>Launch_Site</th>\n",
       "        </tr>\n",
       "    </thead>\n",
       "    <tbody>\n",
       "        <tr>\n",
       "            <td>CCAFS LC-40</td>\n",
       "        </tr>\n",
       "        <tr>\n",
       "            <td>VAFB SLC-4E</td>\n",
       "        </tr>\n",
       "        <tr>\n",
       "            <td>KSC LC-39A</td>\n",
       "        </tr>\n",
       "        <tr>\n",
       "            <td>CCAFS SLC-40</td>\n",
       "        </tr>\n",
       "    </tbody>\n",
       "</table>"
      ],
      "text/plain": [
       "+--------------+\n",
       "| Launch_Site  |\n",
       "+--------------+\n",
       "| CCAFS LC-40  |\n",
       "| VAFB SLC-4E  |\n",
       "|  KSC LC-39A  |\n",
       "| CCAFS SLC-40 |\n",
       "+--------------+"
      ]
     },
     "execution_count": 7,
     "metadata": {},
     "output_type": "execute_result"
    }
   ],
   "source": [
    "%sql select DISTINCT(Launch_Site) from SPACEXTBL "
   ]
  },
  {
   "cell_type": "markdown",
   "id": "8b7cb200-82ec-4759-8b5a-4d2104ef8edc",
   "metadata": {},
   "source": [
    "\n",
    "### Task 2\n",
    "\n",
    "\n",
    "#####  Display 5 records where launch sites begin with the string 'CCA' "
   ]
  },
  {
   "cell_type": "code",
   "execution_count": 8,
   "id": "68924d0d-9520-41a5-8a3c-bb9cd8495ba3",
   "metadata": {
    "tags": []
   },
   "outputs": [
    {
     "data": {
      "text/html": [
       "<span style=\"None\">Running query in &#x27;sqlite:///my_data1.db&#x27;</span>"
      ],
      "text/plain": [
       "Running query in 'sqlite:///my_data1.db'"
      ]
     },
     "metadata": {},
     "output_type": "display_data"
    },
    {
     "data": {
      "text/html": [
       "<table>\n",
       "    <thead>\n",
       "        <tr>\n",
       "            <th>Date</th>\n",
       "            <th>Time (UTC)</th>\n",
       "            <th>Booster_Version</th>\n",
       "            <th>Launch_Site</th>\n",
       "            <th>Payload</th>\n",
       "            <th>PAYLOAD_MASS__KG_</th>\n",
       "            <th>Orbit</th>\n",
       "            <th>Customer</th>\n",
       "            <th>Mission_Outcome</th>\n",
       "            <th>Landing_Outcome</th>\n",
       "        </tr>\n",
       "    </thead>\n",
       "    <tbody>\n",
       "        <tr>\n",
       "            <td>2010-06-04</td>\n",
       "            <td>18:45:00</td>\n",
       "            <td>F9 v1.0  B0003</td>\n",
       "            <td>CCAFS LC-40</td>\n",
       "            <td>Dragon Spacecraft Qualification Unit</td>\n",
       "            <td>0</td>\n",
       "            <td>LEO</td>\n",
       "            <td>SpaceX</td>\n",
       "            <td>Success</td>\n",
       "            <td>Failure (parachute)</td>\n",
       "        </tr>\n",
       "        <tr>\n",
       "            <td>2010-12-08</td>\n",
       "            <td>15:43:00</td>\n",
       "            <td>F9 v1.0  B0004</td>\n",
       "            <td>CCAFS LC-40</td>\n",
       "            <td>Dragon demo flight C1, two CubeSats, barrel of Brouere cheese</td>\n",
       "            <td>0</td>\n",
       "            <td>LEO (ISS)</td>\n",
       "            <td>NASA (COTS) NRO</td>\n",
       "            <td>Success</td>\n",
       "            <td>Failure (parachute)</td>\n",
       "        </tr>\n",
       "        <tr>\n",
       "            <td>2012-05-22</td>\n",
       "            <td>7:44:00</td>\n",
       "            <td>F9 v1.0  B0005</td>\n",
       "            <td>CCAFS LC-40</td>\n",
       "            <td>Dragon demo flight C2</td>\n",
       "            <td>525</td>\n",
       "            <td>LEO (ISS)</td>\n",
       "            <td>NASA (COTS)</td>\n",
       "            <td>Success</td>\n",
       "            <td>No attempt</td>\n",
       "        </tr>\n",
       "        <tr>\n",
       "            <td>2012-10-08</td>\n",
       "            <td>0:35:00</td>\n",
       "            <td>F9 v1.0  B0006</td>\n",
       "            <td>CCAFS LC-40</td>\n",
       "            <td>SpaceX CRS-1</td>\n",
       "            <td>500</td>\n",
       "            <td>LEO (ISS)</td>\n",
       "            <td>NASA (CRS)</td>\n",
       "            <td>Success</td>\n",
       "            <td>No attempt</td>\n",
       "        </tr>\n",
       "        <tr>\n",
       "            <td>2013-03-01</td>\n",
       "            <td>15:10:00</td>\n",
       "            <td>F9 v1.0  B0007</td>\n",
       "            <td>CCAFS LC-40</td>\n",
       "            <td>SpaceX CRS-2</td>\n",
       "            <td>677</td>\n",
       "            <td>LEO (ISS)</td>\n",
       "            <td>NASA (CRS)</td>\n",
       "            <td>Success</td>\n",
       "            <td>No attempt</td>\n",
       "        </tr>\n",
       "    </tbody>\n",
       "</table>"
      ],
      "text/plain": [
       "+------------+------------+-----------------+-------------+---------------------------------------------------------------+-------------------+-----------+-----------------+-----------------+---------------------+\n",
       "|    Date    | Time (UTC) | Booster_Version | Launch_Site |                            Payload                            | PAYLOAD_MASS__KG_ |   Orbit   |     Customer    | Mission_Outcome |   Landing_Outcome   |\n",
       "+------------+------------+-----------------+-------------+---------------------------------------------------------------+-------------------+-----------+-----------------+-----------------+---------------------+\n",
       "| 2010-06-04 |  18:45:00  |  F9 v1.0  B0003 | CCAFS LC-40 |              Dragon Spacecraft Qualification Unit             |         0         |    LEO    |      SpaceX     |     Success     | Failure (parachute) |\n",
       "| 2010-12-08 |  15:43:00  |  F9 v1.0  B0004 | CCAFS LC-40 | Dragon demo flight C1, two CubeSats, barrel of Brouere cheese |         0         | LEO (ISS) | NASA (COTS) NRO |     Success     | Failure (parachute) |\n",
       "| 2012-05-22 |  7:44:00   |  F9 v1.0  B0005 | CCAFS LC-40 |                     Dragon demo flight C2                     |        525        | LEO (ISS) |   NASA (COTS)   |     Success     |      No attempt     |\n",
       "| 2012-10-08 |  0:35:00   |  F9 v1.0  B0006 | CCAFS LC-40 |                          SpaceX CRS-1                         |        500        | LEO (ISS) |    NASA (CRS)   |     Success     |      No attempt     |\n",
       "| 2013-03-01 |  15:10:00  |  F9 v1.0  B0007 | CCAFS LC-40 |                          SpaceX CRS-2                         |        677        | LEO (ISS) |    NASA (CRS)   |     Success     |      No attempt     |\n",
       "+------------+------------+-----------------+-------------+---------------------------------------------------------------+-------------------+-----------+-----------------+-----------------+---------------------+"
      ]
     },
     "execution_count": 8,
     "metadata": {},
     "output_type": "execute_result"
    }
   ],
   "source": [
    "%sql select * from SPACEXTBL where Launch_Site LIKE \"CCA%\" LIMIT 5"
   ]
  },
  {
   "cell_type": "markdown",
   "id": "17f2335c-1e5d-4181-a4f3-21104bc814b9",
   "metadata": {},
   "source": [
    "### Task 3\n",
    "\n",
    "\n",
    "\n",
    "\n",
    "##### Display the total payload mass carried by boosters launched by NASA (CRS)"
   ]
  },
  {
   "cell_type": "code",
   "execution_count": 30,
   "id": "2b8d3cab-0b55-4999-b5f0-266ae9746448",
   "metadata": {
    "tags": []
   },
   "outputs": [
    {
     "data": {
      "text/html": [
       "<span style=\"None\">Running query in &#x27;sqlite:///my_data1.db&#x27;</span>"
      ],
      "text/plain": [
       "Running query in 'sqlite:///my_data1.db'"
      ]
     },
     "metadata": {},
     "output_type": "display_data"
    },
    {
     "data": {
      "text/html": [
       "<table>\n",
       "    <thead>\n",
       "        <tr>\n",
       "            <th>SUM(PAYLOAD_MASS__KG_)</th>\n",
       "        </tr>\n",
       "    </thead>\n",
       "    <tbody>\n",
       "        <tr>\n",
       "            <td>45596</td>\n",
       "        </tr>\n",
       "    </tbody>\n",
       "</table>"
      ],
      "text/plain": [
       "+------------------------+\n",
       "| SUM(PAYLOAD_MASS__KG_) |\n",
       "+------------------------+\n",
       "|         45596          |\n",
       "+------------------------+"
      ]
     },
     "execution_count": 30,
     "metadata": {},
     "output_type": "execute_result"
    }
   ],
   "source": [
    "%sql select SUM(PAYLOAD_MASS__KG_) from SPACEXTBL where Customer =\"NASA (CRS)\""
   ]
  },
  {
   "cell_type": "markdown",
   "id": "cbe8b987-9210-4f13-ae95-735211cf6ef5",
   "metadata": {},
   "source": [
    "### Task 4\n",
    "\n",
    "\n",
    "\n",
    "\n",
    "##### Display average payload mass carried by booster version F9 v1.1"
   ]
  },
  {
   "cell_type": "code",
   "execution_count": 31,
   "id": "ddf8b8a7-a2cc-41fb-b96d-ebf81e3ba287",
   "metadata": {
    "tags": []
   },
   "outputs": [
    {
     "data": {
      "text/html": [
       "<span style=\"None\">Running query in &#x27;sqlite:///my_data1.db&#x27;</span>"
      ],
      "text/plain": [
       "Running query in 'sqlite:///my_data1.db'"
      ]
     },
     "metadata": {},
     "output_type": "display_data"
    },
    {
     "data": {
      "text/html": [
       "<table>\n",
       "    <thead>\n",
       "        <tr>\n",
       "            <th>AVG(PAYLOAD_MASS__KG_)</th>\n",
       "        </tr>\n",
       "    </thead>\n",
       "    <tbody>\n",
       "        <tr>\n",
       "            <td>2928.4</td>\n",
       "        </tr>\n",
       "    </tbody>\n",
       "</table>"
      ],
      "text/plain": [
       "+------------------------+\n",
       "| AVG(PAYLOAD_MASS__KG_) |\n",
       "+------------------------+\n",
       "|         2928.4         |\n",
       "+------------------------+"
      ]
     },
     "execution_count": 31,
     "metadata": {},
     "output_type": "execute_result"
    }
   ],
   "source": [
    "%sql select AVG(PAYLOAD_MASS__KG_) from SPACEXTBL where Booster_Version =\"F9 v1.1\""
   ]
  },
  {
   "cell_type": "markdown",
   "id": "a0f03e6c-1050-470a-b04f-7bf02cb20f25",
   "metadata": {},
   "source": [
    "### Task 5\n",
    "\n",
    "##### List the date when the first succesful landing outcome in ground pad was acheived.\n",
    "\n",
    "\n",
    "_Hint:Use min function_ "
   ]
  },
  {
   "cell_type": "code",
   "execution_count": 32,
   "id": "3138615a-b57a-4ee1-9625-41b5ea18b117",
   "metadata": {
    "tags": []
   },
   "outputs": [
    {
     "data": {
      "text/html": [
       "<span style=\"None\">Running query in &#x27;sqlite:///my_data1.db&#x27;</span>"
      ],
      "text/plain": [
       "Running query in 'sqlite:///my_data1.db'"
      ]
     },
     "metadata": {},
     "output_type": "display_data"
    },
    {
     "data": {
      "text/html": [
       "<table>\n",
       "    <thead>\n",
       "        <tr>\n",
       "            <th>MIN(DATE)</th>\n",
       "        </tr>\n",
       "    </thead>\n",
       "    <tbody>\n",
       "        <tr>\n",
       "            <td>2015-12-22</td>\n",
       "        </tr>\n",
       "    </tbody>\n",
       "</table>"
      ],
      "text/plain": [
       "+------------+\n",
       "| MIN(DATE)  |\n",
       "+------------+\n",
       "| 2015-12-22 |\n",
       "+------------+"
      ]
     },
     "execution_count": 32,
     "metadata": {},
     "output_type": "execute_result"
    }
   ],
   "source": [
    "%sql select MIN(DATE) from SPACEXTBL where Landing_Outcome =\"Success (ground pad)\""
   ]
  },
  {
   "cell_type": "markdown",
   "id": "c7b37c52-11ae-4d4c-9dd0-ace0bde4357d",
   "metadata": {},
   "source": [
    "### Task 6\n",
    "\n",
    "##### List the names of the boosters which have success in drone ship and have payload mass greater than 4000 but less than 6000"
   ]
  },
  {
   "cell_type": "code",
   "execution_count": 40,
   "id": "7a19e8b2-ac3d-4679-a986-84a1e9e25b56",
   "metadata": {
    "tags": []
   },
   "outputs": [
    {
     "data": {
      "text/html": [
       "<span style=\"None\">Running query in &#x27;sqlite:///my_data1.db&#x27;</span>"
      ],
      "text/plain": [
       "Running query in 'sqlite:///my_data1.db'"
      ]
     },
     "metadata": {},
     "output_type": "display_data"
    },
    {
     "data": {
      "text/html": [
       "<table>\n",
       "    <thead>\n",
       "        <tr>\n",
       "            <th>Booster_Version</th>\n",
       "        </tr>\n",
       "    </thead>\n",
       "    <tbody>\n",
       "        <tr>\n",
       "            <td>F9 FT B1022</td>\n",
       "        </tr>\n",
       "        <tr>\n",
       "            <td>F9 FT B1026</td>\n",
       "        </tr>\n",
       "        <tr>\n",
       "            <td>F9 FT  B1021.2</td>\n",
       "        </tr>\n",
       "        <tr>\n",
       "            <td>F9 FT  B1031.2</td>\n",
       "        </tr>\n",
       "    </tbody>\n",
       "</table>"
      ],
      "text/plain": [
       "+-----------------+\n",
       "| Booster_Version |\n",
       "+-----------------+\n",
       "|   F9 FT B1022   |\n",
       "|   F9 FT B1026   |\n",
       "|  F9 FT  B1021.2 |\n",
       "|  F9 FT  B1031.2 |\n",
       "+-----------------+"
      ]
     },
     "execution_count": 40,
     "metadata": {},
     "output_type": "execute_result"
    }
   ],
   "source": [
    "%sql select Booster_Version from SPACEXTBL where Landing_Outcome =\"Success (drone ship)\" and PAYLOAD_MASS__KG_ between 4000 and 6000 "
   ]
  },
  {
   "cell_type": "markdown",
   "id": "503f0626-2736-4ea3-9033-c46744e63f2f",
   "metadata": {},
   "source": [
    "### Task 7\n",
    "\n",
    "\n",
    "\n",
    "\n",
    "##### List the total number of successful and failure mission outcomes"
   ]
  },
  {
   "cell_type": "code",
   "execution_count": 50,
   "id": "d772706e-66a8-4e7a-8303-730c9804cc60",
   "metadata": {
    "tags": []
   },
   "outputs": [
    {
     "data": {
      "text/html": [
       "<span style=\"None\">Running query in &#x27;sqlite:///my_data1.db&#x27;</span>"
      ],
      "text/plain": [
       "Running query in 'sqlite:///my_data1.db'"
      ]
     },
     "metadata": {},
     "output_type": "display_data"
    },
    {
     "data": {
      "text/html": [
       "<table>\n",
       "    <thead>\n",
       "        <tr>\n",
       "            <th>substr(Mission_Outcome,1,7)</th>\n",
       "            <th>COUNT(*)</th>\n",
       "        </tr>\n",
       "    </thead>\n",
       "    <tbody>\n",
       "        <tr>\n",
       "            <td>Failure</td>\n",
       "            <td>1</td>\n",
       "        </tr>\n",
       "        <tr>\n",
       "            <td>Success</td>\n",
       "            <td>100</td>\n",
       "        </tr>\n",
       "    </tbody>\n",
       "</table>"
      ],
      "text/plain": [
       "+-----------------------------+----------+\n",
       "| substr(Mission_Outcome,1,7) | COUNT(*) |\n",
       "+-----------------------------+----------+\n",
       "|           Failure           |    1     |\n",
       "|           Success           |   100    |\n",
       "+-----------------------------+----------+"
      ]
     },
     "execution_count": 50,
     "metadata": {},
     "output_type": "execute_result"
    }
   ],
   "source": [
    "%sql select substr(Mission_Outcome,1,7), COUNT(*) from SPACEXTBL GROUP BY 1"
   ]
  },
  {
   "cell_type": "code",
   "execution_count": 39,
   "id": "ff26e9c6-ffd1-4a43-9376-d5536eda400d",
   "metadata": {
    "tags": []
   },
   "outputs": [
    {
     "data": {
      "text/html": [
       "<span style=\"None\">Running query in &#x27;sqlite:///my_data1.db&#x27;</span>"
      ],
      "text/plain": [
       "Running query in 'sqlite:///my_data1.db'"
      ]
     },
     "metadata": {},
     "output_type": "display_data"
    },
    {
     "data": {
      "text/html": [
       "<table>\n",
       "    <thead>\n",
       "        <tr>\n",
       "            <th>Mission_Outcome</th>\n",
       "            <th>sum(CASE WHEN Mission_Outcome LIKE '%Failure%' THEN 1 ELSE 0 END)</th>\n",
       "        </tr>\n",
       "    </thead>\n",
       "    <tbody>\n",
       "        <tr>\n",
       "            <td>Success</td>\n",
       "            <td>1</td>\n",
       "        </tr>\n",
       "    </tbody>\n",
       "</table>"
      ],
      "text/plain": [
       "+-----------------+-------------------------------------------------------------------+\n",
       "| Mission_Outcome | sum(CASE WHEN Mission_Outcome LIKE '%Failure%' THEN 1 ELSE 0 END) |\n",
       "+-----------------+-------------------------------------------------------------------+\n",
       "|     Success     |                                 1                                 |\n",
       "+-----------------+-------------------------------------------------------------------+"
      ]
     },
     "execution_count": 39,
     "metadata": {},
     "output_type": "execute_result"
    }
   ],
   "source": [
    "#%sql select Mission_Outcome, \\\n",
    "#sum(CASE WHEN Mission_Outcome LIKE '%Failure%' THEN 1 ELSE 0 END) \\\n",
    "#from SPACEXTBL\n",
    "\n",
    "\n",
    "#count(*) as 'a' from SPACEXTBL where Landing_Outcome LIKE '%Success%', count(*) as \"b\" FROM SPACEXTBL where Landing_Outcome LIKE '%Failure%'"
   ]
  },
  {
   "cell_type": "markdown",
   "id": "e4f5d2f6-2860-41d0-8b24-18e59e4d5e3f",
   "metadata": {},
   "source": [
    "### Task 8\n",
    "\n",
    "\n",
    "\n",
    "##### List the   names of the booster_versions which have carried the maximum payload mass. Use a subquery"
   ]
  },
  {
   "cell_type": "code",
   "execution_count": 52,
   "id": "6da57771-22b2-4ba8-8b73-1bc1483f1c0d",
   "metadata": {
    "tags": []
   },
   "outputs": [
    {
     "data": {
      "text/html": [
       "<span style=\"None\">Running query in &#x27;sqlite:///my_data1.db&#x27;</span>"
      ],
      "text/plain": [
       "Running query in 'sqlite:///my_data1.db'"
      ]
     },
     "metadata": {},
     "output_type": "display_data"
    },
    {
     "data": {
      "text/html": [
       "<table>\n",
       "    <thead>\n",
       "        <tr>\n",
       "            <th>Booster_Version</th>\n",
       "        </tr>\n",
       "    </thead>\n",
       "    <tbody>\n",
       "        <tr>\n",
       "            <td>F9 B5 B1048.4</td>\n",
       "        </tr>\n",
       "        <tr>\n",
       "            <td>F9 B5 B1049.4</td>\n",
       "        </tr>\n",
       "        <tr>\n",
       "            <td>F9 B5 B1051.3</td>\n",
       "        </tr>\n",
       "        <tr>\n",
       "            <td>F9 B5 B1056.4</td>\n",
       "        </tr>\n",
       "        <tr>\n",
       "            <td>F9 B5 B1048.5</td>\n",
       "        </tr>\n",
       "        <tr>\n",
       "            <td>F9 B5 B1051.4</td>\n",
       "        </tr>\n",
       "        <tr>\n",
       "            <td>F9 B5 B1049.5</td>\n",
       "        </tr>\n",
       "        <tr>\n",
       "            <td>F9 B5 B1060.2 </td>\n",
       "        </tr>\n",
       "        <tr>\n",
       "            <td>F9 B5 B1058.3 </td>\n",
       "        </tr>\n",
       "        <tr>\n",
       "            <td>F9 B5 B1051.6</td>\n",
       "        </tr>\n",
       "    </tbody>\n",
       "</table>\n",
       "<span style=\"font-style:italic;text-align:center;\">Truncated to <a href=\"https://jupysql.ploomber.io/en/latest/api/configuration.html#displaylimit\">displaylimit</a> of 10.</span>"
      ],
      "text/plain": [
       "+-----------------+\n",
       "| Booster_Version |\n",
       "+-----------------+\n",
       "|  F9 B5 B1048.4  |\n",
       "|  F9 B5 B1049.4  |\n",
       "|  F9 B5 B1051.3  |\n",
       "|  F9 B5 B1056.4  |\n",
       "|  F9 B5 B1048.5  |\n",
       "|  F9 B5 B1051.4  |\n",
       "|  F9 B5 B1049.5  |\n",
       "|  F9 B5 B1060.2  |\n",
       "|  F9 B5 B1058.3  |\n",
       "|  F9 B5 B1051.6  |\n",
       "+-----------------+\n",
       "Truncated to displaylimit of 10."
      ]
     },
     "execution_count": 52,
     "metadata": {},
     "output_type": "execute_result"
    }
   ],
   "source": [
    "%sql select DISTINCT Booster_Version from SPACEXTBL Where PAYLOAD_MASS__KG_ = (select max(PAYLOAD_MASS__KG_) from SPACEXTBL)"
   ]
  },
  {
   "cell_type": "markdown",
   "id": "4d0c2cd3-cff1-4c8e-ba2b-eee16b568ef7",
   "metadata": {},
   "source": [
    "### Task 9\n",
    "\n",
    "\n",
    "##### List the records which will display the month names, failure landing_outcomes in drone ship ,booster versions, launch_site for the months in year 2015.\n",
    "\n",
    "**Note: SQLLite does not support monthnames. So you need to use  substr(Date, 6,2) as month to get the months and substr(Date,0,5)='2015' for year.**substr(Date, 6,2)"
   ]
  },
  {
   "cell_type": "code",
   "execution_count": 70,
   "id": "72c1078d-adff-49d5-ae15-f495ed678ed1",
   "metadata": {
    "tags": []
   },
   "outputs": [
    {
     "data": {
      "text/html": [
       "<span style=\"None\">Running query in &#x27;sqlite:///my_data1.db&#x27;</span>"
      ],
      "text/plain": [
       "Running query in 'sqlite:///my_data1.db'"
      ]
     },
     "metadata": {},
     "output_type": "display_data"
    },
    {
     "data": {
      "text/html": [
       "<table>\n",
       "    <thead>\n",
       "        <tr>\n",
       "            <th>month</th>\n",
       "            <th>year</th>\n",
       "            <th>Landing_Outcome</th>\n",
       "            <th>Booster_Version</th>\n",
       "            <th>Launch_Site</th>\n",
       "        </tr>\n",
       "    </thead>\n",
       "    <tbody>\n",
       "        <tr>\n",
       "            <td>01</td>\n",
       "            <td>2015</td>\n",
       "            <td>Failure (drone ship)</td>\n",
       "            <td>F9 v1.1 B1012</td>\n",
       "            <td>CCAFS LC-40</td>\n",
       "        </tr>\n",
       "        <tr>\n",
       "            <td>04</td>\n",
       "            <td>2015</td>\n",
       "            <td>Failure (drone ship)</td>\n",
       "            <td>F9 v1.1 B1015</td>\n",
       "            <td>CCAFS LC-40</td>\n",
       "        </tr>\n",
       "    </tbody>\n",
       "</table>"
      ],
      "text/plain": [
       "+-------+------+----------------------+-----------------+-------------+\n",
       "| month | year |   Landing_Outcome    | Booster_Version | Launch_Site |\n",
       "+-------+------+----------------------+-----------------+-------------+\n",
       "|   01  | 2015 | Failure (drone ship) |  F9 v1.1 B1012  | CCAFS LC-40 |\n",
       "|   04  | 2015 | Failure (drone ship) |  F9 v1.1 B1015  | CCAFS LC-40 |\n",
       "+-------+------+----------------------+-----------------+-------------+"
      ]
     },
     "execution_count": 70,
     "metadata": {},
     "output_type": "execute_result"
    }
   ],
   "source": [
    "%sql select distinct substr(Date, 6,2) as 'month', substr(Date, 0,5) as 'year', Landing_Outcome, Booster_Version, Launch_Site from SPACEXTBL \\\n",
    "where Landing_Outcome='Failure (drone ship)' and  substr(Date,0,5)='2015'"
   ]
  },
  {
   "cell_type": "markdown",
   "id": "7b6142ad-2e35-402d-b52e-331f3510bd06",
   "metadata": {},
   "source": [
    "### Task 10\n",
    "\n",
    "\n",
    "\n",
    "\n",
    "##### Rank the count of landing outcomes (such as Failure (drone ship) or Success (ground pad)) between the date 2010-06-04 and 2017-03-20, in descending order."
   ]
  },
  {
   "cell_type": "code",
   "execution_count": 79,
   "id": "db6a44a7-c503-4c8e-81ea-ff893334e57f",
   "metadata": {
    "tags": []
   },
   "outputs": [
    {
     "data": {
      "text/html": [
       "<span style=\"None\">Running query in &#x27;sqlite:///my_data1.db&#x27;</span>"
      ],
      "text/plain": [
       "Running query in 'sqlite:///my_data1.db'"
      ]
     },
     "metadata": {},
     "output_type": "display_data"
    },
    {
     "data": {
      "text/html": [
       "<table>\n",
       "    <thead>\n",
       "        <tr>\n",
       "            <th>Date</th>\n",
       "            <th>Landing_Outcome</th>\n",
       "            <th>COUNT(*)</th>\n",
       "        </tr>\n",
       "    </thead>\n",
       "    <tbody>\n",
       "        <tr>\n",
       "            <td>2012-05-22</td>\n",
       "            <td>No attempt</td>\n",
       "            <td>10</td>\n",
       "        </tr>\n",
       "        <tr>\n",
       "            <td>2016-04-08</td>\n",
       "            <td>Success (drone ship)</td>\n",
       "            <td>5</td>\n",
       "        </tr>\n",
       "        <tr>\n",
       "            <td>2015-01-10</td>\n",
       "            <td>Failure (drone ship)</td>\n",
       "            <td>5</td>\n",
       "        </tr>\n",
       "        <tr>\n",
       "            <td>2015-12-22</td>\n",
       "            <td>Success (ground pad)</td>\n",
       "            <td>3</td>\n",
       "        </tr>\n",
       "        <tr>\n",
       "            <td>2014-04-18</td>\n",
       "            <td>Controlled (ocean)</td>\n",
       "            <td>3</td>\n",
       "        </tr>\n",
       "        <tr>\n",
       "            <td>2013-09-29</td>\n",
       "            <td>Uncontrolled (ocean)</td>\n",
       "            <td>2</td>\n",
       "        </tr>\n",
       "        <tr>\n",
       "            <td>2010-06-04</td>\n",
       "            <td>Failure (parachute)</td>\n",
       "            <td>2</td>\n",
       "        </tr>\n",
       "        <tr>\n",
       "            <td>2015-06-28</td>\n",
       "            <td>Precluded (drone ship)</td>\n",
       "            <td>1</td>\n",
       "        </tr>\n",
       "    </tbody>\n",
       "</table>"
      ],
      "text/plain": [
       "+------------+------------------------+----------+\n",
       "|    Date    |    Landing_Outcome     | COUNT(*) |\n",
       "+------------+------------------------+----------+\n",
       "| 2012-05-22 |       No attempt       |    10    |\n",
       "| 2016-04-08 |  Success (drone ship)  |    5     |\n",
       "| 2015-01-10 |  Failure (drone ship)  |    5     |\n",
       "| 2015-12-22 |  Success (ground pad)  |    3     |\n",
       "| 2014-04-18 |   Controlled (ocean)   |    3     |\n",
       "| 2013-09-29 |  Uncontrolled (ocean)  |    2     |\n",
       "| 2010-06-04 |  Failure (parachute)   |    2     |\n",
       "| 2015-06-28 | Precluded (drone ship) |    1     |\n",
       "+------------+------------------------+----------+"
      ]
     },
     "execution_count": 79,
     "metadata": {},
     "output_type": "execute_result"
    }
   ],
   "source": [
    "%sql select Date, Landing_Outcome, COUNT(*) from SPACEXTBL \\\n",
    "WHERE Date between \"2010-06-04\" and \"2017-03-20\" \\\n",
    "group by Landing_Outcome ORDER BY 3 DESC\n",
    "\n",
    "\n"
   ]
  },
  {
   "cell_type": "code",
   "execution_count": null,
   "id": "44ac8cf4-dd8e-43b5-81be-77bb9f93f1af",
   "metadata": {},
   "outputs": [],
   "source": []
  }
 ],
 "metadata": {
  "kernelspec": {
   "display_name": "Python 3 (ipykernel)",
   "language": "python",
   "name": "python3"
  },
  "language_info": {
   "codemirror_mode": {
    "name": "ipython",
    "version": 3
   },
   "file_extension": ".py",
   "mimetype": "text/x-python",
   "name": "python",
   "nbconvert_exporter": "python",
   "pygments_lexer": "ipython3",
   "version": "3.11.5"
  }
 },
 "nbformat": 4,
 "nbformat_minor": 5
}
