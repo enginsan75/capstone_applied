{
 "cells": [
  {
   "cell_type": "code",
   "execution_count": 1,
   "id": "53a7dde9-12b3-4dfe-8df0-5a0af3981ebb",
   "metadata": {},
   "outputs": [],
   "source": [
    "import pandas as pd\n",
    "from hdfs import InsecureClient\n",
    "\n"
   ]
  },
  {
   "cell_type": "markdown",
   "id": "e4b3642d-1ac8-4930-b7d4-3c86c5a56b6f",
   "metadata": {},
   "source": [
    "loading the csv file to hadoop\n",
    " \n",
    " hdfs dfs -copyFromLocal /Users/enginsan/Downloads/Historical_Wildfires.csv /user/enginsan\n",
    "\n",
    " \n"
   ]
  },
  {
   "cell_type": "code",
   "execution_count": 2,
   "id": "0e19f67f-ae57-492f-a445-fc20f0a81204",
   "metadata": {},
   "outputs": [],
   "source": [
    "#reading from hadoop file\n",
    "client_hdfs = InsecureClient('http://localhost:50070')\n",
    "with client_hdfs.read('/user/enginsan/Historical_Wildfires.csv', encoding = 'utf-8') as reader :\n",
    "    df = pd.read_csv(reader,index_col=1)\n",
    "\n",
    "\n"
   ]
  },
  {
   "cell_type": "code",
   "execution_count": 4,
   "id": "d5474138-0f08-4522-bc05-93da08f6de86",
   "metadata": {},
   "outputs": [
    {
     "data": {
      "text/html": [
       "<div>\n",
       "<style scoped>\n",
       "    .dataframe tbody tr th:only-of-type {\n",
       "        vertical-align: middle;\n",
       "    }\n",
       "\n",
       "    .dataframe tbody tr th {\n",
       "        vertical-align: top;\n",
       "    }\n",
       "\n",
       "    .dataframe thead th {\n",
       "        text-align: right;\n",
       "    }\n",
       "</style>\n",
       "<table border=\"1\" class=\"dataframe\">\n",
       "  <thead>\n",
       "    <tr style=\"text-align: right;\">\n",
       "      <th></th>\n",
       "      <th>Region</th>\n",
       "      <th>Estimated_fire_area</th>\n",
       "      <th>Mean_estimated_fire_brightness</th>\n",
       "      <th>Mean_estimated_fire_radiative_power</th>\n",
       "      <th>Mean_confidence</th>\n",
       "      <th>Std_confidence</th>\n",
       "      <th>Var_confidence</th>\n",
       "      <th>Count</th>\n",
       "      <th>Replaced</th>\n",
       "    </tr>\n",
       "    <tr>\n",
       "      <th>Date</th>\n",
       "      <th></th>\n",
       "      <th></th>\n",
       "      <th></th>\n",
       "      <th></th>\n",
       "      <th></th>\n",
       "      <th></th>\n",
       "      <th></th>\n",
       "      <th></th>\n",
       "      <th></th>\n",
       "    </tr>\n",
       "  </thead>\n",
       "  <tbody>\n",
       "    <tr>\n",
       "      <th>1/4/2005</th>\n",
       "      <td>NSW</td>\n",
       "      <td>8.68000</td>\n",
       "      <td>312.266667</td>\n",
       "      <td>42.400000</td>\n",
       "      <td>78.666667</td>\n",
       "      <td>2.886751</td>\n",
       "      <td>8.333333</td>\n",
       "      <td>3</td>\n",
       "      <td>R</td>\n",
       "    </tr>\n",
       "    <tr>\n",
       "      <th>1/5/2005</th>\n",
       "      <td>NSW</td>\n",
       "      <td>16.61125</td>\n",
       "      <td>322.475000</td>\n",
       "      <td>62.362500</td>\n",
       "      <td>85.500000</td>\n",
       "      <td>8.088793</td>\n",
       "      <td>65.428571</td>\n",
       "      <td>8</td>\n",
       "      <td>R</td>\n",
       "    </tr>\n",
       "    <tr>\n",
       "      <th>1/6/2005</th>\n",
       "      <td>NSW</td>\n",
       "      <td>5.52000</td>\n",
       "      <td>325.266667</td>\n",
       "      <td>38.400000</td>\n",
       "      <td>78.333333</td>\n",
       "      <td>3.214550</td>\n",
       "      <td>10.333333</td>\n",
       "      <td>3</td>\n",
       "      <td>R</td>\n",
       "    </tr>\n",
       "    <tr>\n",
       "      <th>1/7/2005</th>\n",
       "      <td>NSW</td>\n",
       "      <td>6.26400</td>\n",
       "      <td>313.870000</td>\n",
       "      <td>33.800000</td>\n",
       "      <td>92.200000</td>\n",
       "      <td>7.529940</td>\n",
       "      <td>56.700000</td>\n",
       "      <td>5</td>\n",
       "      <td>R</td>\n",
       "    </tr>\n",
       "    <tr>\n",
       "      <th>1/8/2005</th>\n",
       "      <td>NSW</td>\n",
       "      <td>5.40000</td>\n",
       "      <td>337.383333</td>\n",
       "      <td>122.533333</td>\n",
       "      <td>91.000000</td>\n",
       "      <td>7.937254</td>\n",
       "      <td>63.000000</td>\n",
       "      <td>3</td>\n",
       "      <td>R</td>\n",
       "    </tr>\n",
       "  </tbody>\n",
       "</table>\n",
       "</div>"
      ],
      "text/plain": [
       "         Region  Estimated_fire_area  Mean_estimated_fire_brightness  \\\n",
       "Date                                                                   \n",
       "1/4/2005    NSW              8.68000                      312.266667   \n",
       "1/5/2005    NSW             16.61125                      322.475000   \n",
       "1/6/2005    NSW              5.52000                      325.266667   \n",
       "1/7/2005    NSW              6.26400                      313.870000   \n",
       "1/8/2005    NSW              5.40000                      337.383333   \n",
       "\n",
       "          Mean_estimated_fire_radiative_power  Mean_confidence  \\\n",
       "Date                                                             \n",
       "1/4/2005                            42.400000        78.666667   \n",
       "1/5/2005                            62.362500        85.500000   \n",
       "1/6/2005                            38.400000        78.333333   \n",
       "1/7/2005                            33.800000        92.200000   \n",
       "1/8/2005                           122.533333        91.000000   \n",
       "\n",
       "          Std_confidence  Var_confidence  Count Replaced  \n",
       "Date                                                      \n",
       "1/4/2005        2.886751        8.333333      3        R  \n",
       "1/5/2005        8.088793       65.428571      8        R  \n",
       "1/6/2005        3.214550       10.333333      3        R  \n",
       "1/7/2005        7.529940       56.700000      5        R  \n",
       "1/8/2005        7.937254       63.000000      3        R  "
      ]
     },
     "execution_count": 4,
     "metadata": {},
     "output_type": "execute_result"
    }
   ],
   "source": [
    "df.head()"
   ]
  },
  {
   "cell_type": "code",
   "execution_count": 6,
   "id": "34cc9c5d-70d4-4acc-a9d8-e6befd84a1d1",
   "metadata": {},
   "outputs": [
    {
     "data": {
      "text/plain": [
       "26406"
      ]
     },
     "execution_count": 6,
     "metadata": {},
     "output_type": "execute_result"
    }
   ],
   "source": [
    "len(df)\n"
   ]
  },
  {
   "cell_type": "code",
   "execution_count": 8,
   "id": "c36bbdc4-ad26-4fd6-8de6-71a620bd93b7",
   "metadata": {},
   "outputs": [],
   "source": [
    "df2 = df.loc[df.Estimated_fire_area> 3.0]\n",
    "\n"
   ]
  },
  {
   "cell_type": "code",
   "execution_count": 10,
   "id": "1fd0cf9b-5900-4f48-90f6-9263894ceba6",
   "metadata": {},
   "outputs": [
    {
     "data": {
      "text/html": [
       "<div>\n",
       "<style scoped>\n",
       "    .dataframe tbody tr th:only-of-type {\n",
       "        vertical-align: middle;\n",
       "    }\n",
       "\n",
       "    .dataframe tbody tr th {\n",
       "        vertical-align: top;\n",
       "    }\n",
       "\n",
       "    .dataframe thead th {\n",
       "        text-align: right;\n",
       "    }\n",
       "</style>\n",
       "<table border=\"1\" class=\"dataframe\">\n",
       "  <thead>\n",
       "    <tr style=\"text-align: right;\">\n",
       "      <th></th>\n",
       "      <th>Region</th>\n",
       "      <th>Estimated_fire_area</th>\n",
       "      <th>Mean_estimated_fire_brightness</th>\n",
       "      <th>Mean_estimated_fire_radiative_power</th>\n",
       "      <th>Mean_confidence</th>\n",
       "      <th>Std_confidence</th>\n",
       "      <th>Var_confidence</th>\n",
       "      <th>Count</th>\n",
       "      <th>Replaced</th>\n",
       "    </tr>\n",
       "    <tr>\n",
       "      <th>Date</th>\n",
       "      <th></th>\n",
       "      <th></th>\n",
       "      <th></th>\n",
       "      <th></th>\n",
       "      <th></th>\n",
       "      <th></th>\n",
       "      <th></th>\n",
       "      <th></th>\n",
       "      <th></th>\n",
       "    </tr>\n",
       "  </thead>\n",
       "  <tbody>\n",
       "    <tr>\n",
       "      <th>1/4/2005</th>\n",
       "      <td>NSW</td>\n",
       "      <td>8.68000</td>\n",
       "      <td>312.266667</td>\n",
       "      <td>42.400000</td>\n",
       "      <td>78.666667</td>\n",
       "      <td>2.886751</td>\n",
       "      <td>8.333333</td>\n",
       "      <td>3</td>\n",
       "      <td>R</td>\n",
       "    </tr>\n",
       "    <tr>\n",
       "      <th>1/5/2005</th>\n",
       "      <td>NSW</td>\n",
       "      <td>16.61125</td>\n",
       "      <td>322.475000</td>\n",
       "      <td>62.362500</td>\n",
       "      <td>85.500000</td>\n",
       "      <td>8.088793</td>\n",
       "      <td>65.428571</td>\n",
       "      <td>8</td>\n",
       "      <td>R</td>\n",
       "    </tr>\n",
       "    <tr>\n",
       "      <th>1/6/2005</th>\n",
       "      <td>NSW</td>\n",
       "      <td>5.52000</td>\n",
       "      <td>325.266667</td>\n",
       "      <td>38.400000</td>\n",
       "      <td>78.333333</td>\n",
       "      <td>3.214550</td>\n",
       "      <td>10.333333</td>\n",
       "      <td>3</td>\n",
       "      <td>R</td>\n",
       "    </tr>\n",
       "    <tr>\n",
       "      <th>1/7/2005</th>\n",
       "      <td>NSW</td>\n",
       "      <td>6.26400</td>\n",
       "      <td>313.870000</td>\n",
       "      <td>33.800000</td>\n",
       "      <td>92.200000</td>\n",
       "      <td>7.529940</td>\n",
       "      <td>56.700000</td>\n",
       "      <td>5</td>\n",
       "      <td>R</td>\n",
       "    </tr>\n",
       "    <tr>\n",
       "      <th>1/8/2005</th>\n",
       "      <td>NSW</td>\n",
       "      <td>5.40000</td>\n",
       "      <td>337.383333</td>\n",
       "      <td>122.533333</td>\n",
       "      <td>91.000000</td>\n",
       "      <td>7.937254</td>\n",
       "      <td>63.000000</td>\n",
       "      <td>3</td>\n",
       "      <td>R</td>\n",
       "    </tr>\n",
       "  </tbody>\n",
       "</table>\n",
       "</div>"
      ],
      "text/plain": [
       "         Region  Estimated_fire_area  Mean_estimated_fire_brightness  \\\n",
       "Date                                                                   \n",
       "1/4/2005    NSW              8.68000                      312.266667   \n",
       "1/5/2005    NSW             16.61125                      322.475000   \n",
       "1/6/2005    NSW              5.52000                      325.266667   \n",
       "1/7/2005    NSW              6.26400                      313.870000   \n",
       "1/8/2005    NSW              5.40000                      337.383333   \n",
       "\n",
       "          Mean_estimated_fire_radiative_power  Mean_confidence  \\\n",
       "Date                                                             \n",
       "1/4/2005                            42.400000        78.666667   \n",
       "1/5/2005                            62.362500        85.500000   \n",
       "1/6/2005                            38.400000        78.333333   \n",
       "1/7/2005                            33.800000        92.200000   \n",
       "1/8/2005                           122.533333        91.000000   \n",
       "\n",
       "          Std_confidence  Var_confidence  Count Replaced  \n",
       "Date                                                      \n",
       "1/4/2005        2.886751        8.333333      3        R  \n",
       "1/5/2005        8.088793       65.428571      8        R  \n",
       "1/6/2005        3.214550       10.333333      3        R  \n",
       "1/7/2005        7.529940       56.700000      5        R  \n",
       "1/8/2005        7.937254       63.000000      3        R  "
      ]
     },
     "execution_count": 10,
     "metadata": {},
     "output_type": "execute_result"
    }
   ],
   "source": [
    "\n",
    "df2.head()"
   ]
  },
  {
   "cell_type": "code",
   "execution_count": 12,
   "id": "119a3997-4d2d-4ed4-8fb8-2a66325c0645",
   "metadata": {},
   "outputs": [
    {
     "data": {
      "text/html": [
       "<div>\n",
       "<style scoped>\n",
       "    .dataframe tbody tr th:only-of-type {\n",
       "        vertical-align: middle;\n",
       "    }\n",
       "\n",
       "    .dataframe tbody tr th {\n",
       "        vertical-align: top;\n",
       "    }\n",
       "\n",
       "    .dataframe thead th {\n",
       "        text-align: right;\n",
       "    }\n",
       "</style>\n",
       "<table border=\"1\" class=\"dataframe\">\n",
       "  <thead>\n",
       "    <tr style=\"text-align: right;\">\n",
       "      <th></th>\n",
       "      <th>Region</th>\n",
       "      <th>Estimated_fire_area</th>\n",
       "      <th>Mean_estimated_fire_brightness</th>\n",
       "      <th>Mean_estimated_fire_radiative_power</th>\n",
       "      <th>Mean_confidence</th>\n",
       "      <th>Std_confidence</th>\n",
       "      <th>Var_confidence</th>\n",
       "      <th>Count</th>\n",
       "      <th>Replaced</th>\n",
       "    </tr>\n",
       "    <tr>\n",
       "      <th>Date</th>\n",
       "      <th></th>\n",
       "      <th></th>\n",
       "      <th></th>\n",
       "      <th></th>\n",
       "      <th></th>\n",
       "      <th></th>\n",
       "      <th></th>\n",
       "      <th></th>\n",
       "      <th></th>\n",
       "    </tr>\n",
       "  </thead>\n",
       "  <tbody>\n",
       "    <tr>\n",
       "      <th>1/4/2005</th>\n",
       "      <td>NSW</td>\n",
       "      <td>8.68000</td>\n",
       "      <td>312.266667</td>\n",
       "      <td>42.4000</td>\n",
       "      <td>78.666667</td>\n",
       "      <td>2.886751</td>\n",
       "      <td>8.333333</td>\n",
       "      <td>3</td>\n",
       "      <td>R</td>\n",
       "    </tr>\n",
       "    <tr>\n",
       "      <th>1/5/2005</th>\n",
       "      <td>NSW</td>\n",
       "      <td>16.61125</td>\n",
       "      <td>322.475000</td>\n",
       "      <td>62.3625</td>\n",
       "      <td>85.500000</td>\n",
       "      <td>8.088793</td>\n",
       "      <td>65.428571</td>\n",
       "      <td>8</td>\n",
       "      <td>R</td>\n",
       "    </tr>\n",
       "    <tr>\n",
       "      <th>1/6/2005</th>\n",
       "      <td>NSW</td>\n",
       "      <td>5.52000</td>\n",
       "      <td>325.266667</td>\n",
       "      <td>38.4000</td>\n",
       "      <td>78.333333</td>\n",
       "      <td>3.214550</td>\n",
       "      <td>10.333333</td>\n",
       "      <td>3</td>\n",
       "      <td>R</td>\n",
       "    </tr>\n",
       "  </tbody>\n",
       "</table>\n",
       "</div>"
      ],
      "text/plain": [
       "         Region  Estimated_fire_area  Mean_estimated_fire_brightness  \\\n",
       "Date                                                                   \n",
       "1/4/2005    NSW              8.68000                      312.266667   \n",
       "1/5/2005    NSW             16.61125                      322.475000   \n",
       "1/6/2005    NSW              5.52000                      325.266667   \n",
       "\n",
       "          Mean_estimated_fire_radiative_power  Mean_confidence  \\\n",
       "Date                                                             \n",
       "1/4/2005                              42.4000        78.666667   \n",
       "1/5/2005                              62.3625        85.500000   \n",
       "1/6/2005                              38.4000        78.333333   \n",
       "\n",
       "          Std_confidence  Var_confidence  Count Replaced  \n",
       "Date                                                      \n",
       "1/4/2005        2.886751        8.333333      3        R  \n",
       "1/5/2005        8.088793       65.428571      8        R  \n",
       "1/6/2005        3.214550       10.333333      3        R  "
      ]
     },
     "execution_count": 12,
     "metadata": {},
     "output_type": "execute_result"
    }
   ],
   "source": [
    "df.loc[df.Estimated_fire_area> 3.0, ['Mean_estimated_fire_brightness']] >= 200\n",
    "df.head(3)\n",
    "\n"
   ]
  },
  {
   "cell_type": "code",
   "execution_count": 14,
   "id": "0c1d89ad-3397-46be-a376-46d2cae147f4",
   "metadata": {},
   "outputs": [
    {
     "data": {
      "text/plain": [
       "<Axes: xlabel='Date'>"
      ]
     },
     "execution_count": 14,
     "metadata": {},
     "output_type": "execute_result"
    },
    {
     "data": {
      "image/png": "[encoded data removed]",
      "text/plain": [
       "<Figure size 640x480 with 1 Axes>"
      ]
     },
     "metadata": {},
     "output_type": "display_data"
    }
   ],
   "source": [
    "df2['Estimated_fire_area'].plot()"
   ]
  },
  {
   "cell_type": "code",
   "execution_count": 18,
   "id": "c824a98e-5318-44d1-8bcf-96313f0bd01d",
   "metadata": {},
   "outputs": [],
   "source": [
    "#writing to filtered or structure data to hadoop in a csv format\n",
    "client_hdfs = InsecureClient('http://localhost:50070')\n",
    "with client_hdfs.write('/user/enginsan/filtered_data.csv', encoding = 'utf-8') as writer :\n",
    "    df2.to_csv(writer)"
   ]
  },
  {
   "cell_type": "code",
   "execution_count": null,
   "id": "7da636be-178a-4a77-be93-f3a9208e17bd",
   "metadata": {},
   "outputs": [],
   "source": [
    "#after checking hdfs directories from HADOOP localhost, then create \"spark schema\" and load into \n",
    "#pyspark to query and make transformations with SQL "
   ]
  },
  {
   "cell_type": "code",
   "execution_count": 16,
   "id": "6c21d729-4c48-4cbb-96cc-fc2c31b9fdef",
   "metadata": {},
   "outputs": [
    {
     "name": "stdout",
     "output_type": "stream",
     "text": [
      "/Library/Java/JavaVirtualMachines/adoptopenjdk-8.jdk/Contents/Home\n"
     ]
    }
   ],
   "source": [
    "import os\n",
    "os.environ['JAVA_HOME']='/Library/Java/JavaVirtualMachines/adoptopenjdk-8.jdk/Contents/Home'\n",
    "print(os.environ['JAVA_HOME'])"
   ]
  },
  {
   "cell_type": "code",
   "execution_count": 18,
   "id": "5cc05fdd-9015-4f51-81bf-cc44bbb6f2a3",
   "metadata": {},
   "outputs": [],
   "source": [
    "import pyspark \n",
    "from pyspark.sql import SparkSession\n",
    "from pyspark.sql.types import StructType\n",
    "from pyspark.sql import DataFrameReader\n",
    "from pyspark.sql import DataFrameWriter"
   ]
  },
  {
   "cell_type": "code",
   "execution_count": 20,
   "id": "7330a713-9855-408d-a260-54fc7044e04c",
   "metadata": {},
   "outputs": [
    {
     "name": "stderr",
     "output_type": "stream",
     "text": [
      "24/09/02 14:55:31 WARN Utils: Your hostname, Engins-MacBook-Air.local resolves to a loopback address: 127.0.0.1; using 192.168.109.46 instead (on interface en0)\n",
      "24/09/02 14:55:31 WARN Utils: Set SPARK_LOCAL_IP if you need to bind to another address\n",
      "Setting default log level to \"WARN\".\n",
      "To adjust logging level use sc.setLogLevel(newLevel). For SparkR, use setLogLevel(newLevel).\n",
      "24/09/02 14:55:32 WARN NativeCodeLoader: Unable to load native-hadoop library for your platform... using builtin-java classes where applicable\n"
     ]
    },
    {
     "name": "stdout",
     "output_type": "stream",
     "text": [
      "3.5.1\n"
     ]
    }
   ],
   "source": [
    "spark = SparkSession.builder.getOrCreate()\n",
    "print(spark.version)"
   ]
  },
  {
   "cell_type": "code",
   "execution_count": null,
   "id": "44371db4-8af8-4460-91ec-053961fa6d0e",
   "metadata": {},
   "outputs": [],
   "source": [
    "#create a spark schema or load directly by inferSchema \"filtered_data.csv\" from hadoop into:\n",
    "#firesSchema = StructType() \\\n",
    "                    \t#.add(\"id\", \"integer\")\\\n",
    "                    \t#.add(\"...\", \"string\")\\\n",
    "                    \t#.add(\"...\", \"string\")\\\n",
    "                    \t#.add(\"...\", \"string\")"
   ]
  },
  {
   "cell_type": "code",
   "execution_count": 163,
   "id": "e6d1d777-2e03-42c4-a027-c4b05ae2bafd",
   "metadata": {},
   "outputs": [],
   "source": [
    "#reading from hadoop\n",
    "df_fires = spark.read.csv(\"hdfs://localhost:9000/user/enginsan/filtered_data.csv\", header=True, inferSchema=True)"
   ]
  },
  {
   "cell_type": "code",
   "execution_count": 165,
   "id": "696a8999-86d2-4381-8bcd-9c93cf506600",
   "metadata": {},
   "outputs": [
    {
     "name": "stdout",
     "output_type": "stream",
     "text": [
      "root\n",
      " |-- Date: string (nullable = true)\n",
      " |-- Region: string (nullable = true)\n",
      " |-- Estimated_fire_area: double (nullable = true)\n",
      " |-- Mean_estimated_fire_brightness: double (nullable = true)\n",
      " |-- Mean_estimated_fire_radiative_power: double (nullable = true)\n",
      " |-- Mean_confidence: double (nullable = true)\n",
      " |-- Std_confidence: double (nullable = true)\n",
      " |-- Var_confidence: double (nullable = true)\n",
      " |-- Count: integer (nullable = true)\n",
      " |-- Replaced: string (nullable = true)\n",
      "\n",
      "Initial DataFrame:\n",
      "+---------+------+-------------------+------------------------------+-----------------------------------+---------------+--------------+--------------+-----+--------+\n",
      "|     Date|Region|Estimated_fire_area|Mean_estimated_fire_brightness|Mean_estimated_fire_radiative_power|Mean_confidence|Std_confidence|Var_confidence|Count|Replaced|\n",
      "+---------+------+-------------------+------------------------------+-----------------------------------+---------------+--------------+--------------+-----+--------+\n",
      "| 1/4/2005|   NSW|               8.68|                   312.2666667|                               42.4|    78.66666667|   2.886751346|   8.333333333|    3|       R|\n",
      "| 1/5/2005|   NSW|           16.61125|                       322.475|                            62.3625|           85.5|   8.088792953|   65.42857143|    8|       R|\n",
      "| 1/6/2005|   NSW|               5.52|                   325.2666667|                               38.4|    78.33333333|   3.214550254|   10.33333333|    3|       R|\n",
      "| 1/7/2005|   NSW|              6.264|                        313.87|                               33.8|           92.2|   7.529940239|          56.7|    5|       R|\n",
      "| 1/8/2005|   NSW|                5.4|                   337.3833333|                        122.5333333|           91.0|   7.937253933|          63.0|    3|       R|\n",
      "| 1/9/2005|   NSW|        13.72142857|                   314.7571429|                        64.54285714|    83.14285714|   6.175990377|   38.14285714|    7|       R|\n",
      "|1/10/2005|   NSW|        16.62545455|                         324.8|                        58.55454545|    91.45454545|   6.088737741|   37.07272727|   11|       R|\n",
      "|1/11/2005|   NSW|          32.784375|                    318.446875|                            66.8125|           91.0|    10.1324561|   102.6666667|   16|       R|\n",
      "|1/12/2005|   NSW|        16.48615385|                   323.2384615|                        40.60769231|    87.76923077|   8.623164985|   74.35897436|   13|       R|\n",
      "|1/13/2005|   NSW|              42.64|                   325.3766667|                        87.57333333|    86.66666667|   7.499206307|   56.23809524|   15|       R|\n",
      "+---------+------+-------------------+------------------------------+-----------------------------------+---------------+--------------+--------------+-----+--------+\n",
      "only showing top 10 rows\n",
      "\n"
     ]
    }
   ],
   "source": [
    "# Display schema of DataFrame\n",
    "df_fires.printSchema()\n",
    "\n",
    "# Show the initial DataFrame\n",
    "print(\"Initial DataFrame:\")\n",
    "df_fires.show(10)"
   ]
  },
  {
   "cell_type": "code",
   "execution_count": 167,
   "id": "1978325c-6efb-43ed-9a78-0ebd436581fd",
   "metadata": {},
   "outputs": [],
   "source": [
    "# Register the DataFrame as a Temporary Table\n",
    "df_fires.createOrReplaceTempView(\"my_table\")"
   ]
  },
  {
   "cell_type": "code",
   "execution_count": 169,
   "id": "0c365887-1306-4a22-a13f-ff88302909cb",
   "metadata": {},
   "outputs": [
    {
     "name": "stdout",
     "output_type": "stream",
     "text": [
      "+--------+------+---------------+\n",
      "|    Date|Region|Number_of_Fires|\n",
      "+--------+------+---------------+\n",
      "|6/6/2017|    QL|             74|\n",
      "+--------+------+---------------+\n",
      "\n"
     ]
    }
   ],
   "source": [
    "# Some SQL Queries: 1-Find the number of fires ocurred in 6/6/2017 in the QL region\n",
    "result = spark.sql(\"SELECT Date, Region, Sum(Count) as Number_of_Fires FROM my_table \\\n",
    "GROUP BY Region, Date \\\n",
    "HAVING Date = '6/6/2017' and Region = 'QL';\")\n",
    "\n",
    "result.show()"
   ]
  },
  {
   "cell_type": "code",
   "execution_count": 171,
   "id": "9bc56f34-0a5c-43d8-98d7-7bda92dd04f7",
   "metadata": {},
   "outputs": [
    {
     "name": "stdout",
     "output_type": "stream",
     "text": [
      "+----------+------+---------------+\n",
      "|      Date|Region|Number_of_Fires|\n",
      "+----------+------+---------------+\n",
      "|  1/4/2020|   NSW|           3365|\n",
      "| 11/8/2019|   NSW|           2355|\n",
      "|12/30/2019|   NSW|           2185|\n",
      "| 12/5/2019|   NSW|           1784|\n",
      "| 12/6/2019|   NSW|           1688|\n",
      "|11/12/2019|   NSW|           1682|\n",
      "|12/21/2019|   NSW|           1593|\n",
      "| 11/7/2019|   NSW|           1406|\n",
      "|12/19/2019|   NSW|           1364|\n",
      "| 11/9/2019|   NSW|           1237|\n",
      "| 12/4/2019|   NSW|           1180|\n",
      "|12/18/2019|   NSW|           1117|\n",
      "|12/31/2019|   NSW|           1103|\n",
      "|11/15/2019|   NSW|           1064|\n",
      "| 12/7/2019|   NSW|           1060|\n",
      "| 12/3/2019|   NSW|           1043|\n",
      "|11/29/2006|   NSW|           1012|\n",
      "|11/19/2019|   NSW|            960|\n",
      "|  1/3/2020|   NSW|            930|\n",
      "|  2/1/2020|   NSW|            876|\n",
      "+----------+------+---------------+\n",
      "only showing top 20 rows\n",
      "\n"
     ]
    }
   ],
   "source": [
    "# Some SQL Queries: 2-Find and sort the most number of fires ocurred after 2015 in all regions \n",
    "\n",
    "result2 = spark.sql(\"SELECT Date, Region, Sum(Count) as Number_of_Fires FROM my_table \\\n",
    "GROUP BY Region, Date \\\n",
    "HAVING Date >= '1/1/2015' \\\n",
    "ORDER BY Region, Number_of_Fires DESC;\")\n",
    "\n",
    "result2.show()\n"
   ]
  },
  {
   "cell_type": "code",
   "execution_count": 173,
   "id": "eeb85fad-572c-44f6-ad99-974e44aca575",
   "metadata": {},
   "outputs": [],
   "source": [
    "#converting the query result to pandas dataframe to save in hadoop cluster\n",
    "pandas_df = result2.toPandas()\n"
   ]
  },
  {
   "cell_type": "code",
   "execution_count": 175,
   "id": "32c4ba03-5026-47cd-b4a4-71524ca795c8",
   "metadata": {},
   "outputs": [
    {
     "data": {
      "text/html": [
       "<div>\n",
       "<style scoped>\n",
       "    .dataframe tbody tr th:only-of-type {\n",
       "        vertical-align: middle;\n",
       "    }\n",
       "\n",
       "    .dataframe tbody tr th {\n",
       "        vertical-align: top;\n",
       "    }\n",
       "\n",
       "    .dataframe thead th {\n",
       "        text-align: right;\n",
       "    }\n",
       "</style>\n",
       "<table border=\"1\" class=\"dataframe\">\n",
       "  <thead>\n",
       "    <tr style=\"text-align: right;\">\n",
       "      <th></th>\n",
       "      <th>Date</th>\n",
       "      <th>Region</th>\n",
       "      <th>Number_of_Fires</th>\n",
       "    </tr>\n",
       "  </thead>\n",
       "  <tbody>\n",
       "    <tr>\n",
       "      <th>0</th>\n",
       "      <td>1/4/2020</td>\n",
       "      <td>NSW</td>\n",
       "      <td>3365</td>\n",
       "    </tr>\n",
       "    <tr>\n",
       "      <th>1</th>\n",
       "      <td>11/8/2019</td>\n",
       "      <td>NSW</td>\n",
       "      <td>2355</td>\n",
       "    </tr>\n",
       "    <tr>\n",
       "      <th>2</th>\n",
       "      <td>12/30/2019</td>\n",
       "      <td>NSW</td>\n",
       "      <td>2185</td>\n",
       "    </tr>\n",
       "    <tr>\n",
       "      <th>3</th>\n",
       "      <td>12/5/2019</td>\n",
       "      <td>NSW</td>\n",
       "      <td>1784</td>\n",
       "    </tr>\n",
       "    <tr>\n",
       "      <th>4</th>\n",
       "      <td>12/6/2019</td>\n",
       "      <td>NSW</td>\n",
       "      <td>1688</td>\n",
       "    </tr>\n",
       "  </tbody>\n",
       "</table>\n",
       "</div>"
      ],
      "text/plain": [
       "         Date Region  Number_of_Fires\n",
       "0    1/4/2020    NSW             3365\n",
       "1   11/8/2019    NSW             2355\n",
       "2  12/30/2019    NSW             2185\n",
       "3   12/5/2019    NSW             1784\n",
       "4   12/6/2019    NSW             1688"
      ]
     },
     "execution_count": 175,
     "metadata": {},
     "output_type": "execute_result"
    }
   ],
   "source": [
    "pandas_df.head()"
   ]
  },
  {
   "cell_type": "code",
   "execution_count": 22,
   "id": "1e7cc39e-be00-4411-ba29-b9fac17a3529",
   "metadata": {},
   "outputs": [],
   "source": [
    "#spark.stop()"
   ]
  },
  {
   "cell_type": "code",
   "execution_count": 24,
   "id": "81d6826c-628b-41f3-8c53-497e02546a9d",
   "metadata": {},
   "outputs": [],
   "source": [
    "#spark = SparkSession.builder.getOrCreate()\n",
    "#print(spark.version)"
   ]
  },
  {
   "cell_type": "markdown",
   "id": "986c300a-607e-4cc6-b059-8ce97419558b",
   "metadata": {},
   "source": [
    "#writing pandas df as in json format in hadoop cluster\n",
    "client_hdfs = InsecureClient('http://localhost:50070')\n",
    "with client_hdfs.write('/user/enginsan/filtered_data.json', encoding = 'utf-8') as writer :\n",
    "    pandas_df.to_json(writer)\n"
   ]
  },
  {
   "cell_type": "code",
   "execution_count": 26,
   "id": "053faa6b-5c57-4cf4-8219-3957f885a763",
   "metadata": {},
   "outputs": [
    {
     "name": "stderr",
     "output_type": "stream",
     "text": [
      "                                                                                \r"
     ]
    }
   ],
   "source": [
    "#reading local json data in spark:\n",
    "json_dt=spark.read.json(\"/Users/enginsan/Downloads/us-states.json\")"
   ]
  },
  {
   "cell_type": "code",
   "execution_count": 28,
   "id": "c9d4da82-096a-471b-bde8-0db856fea906",
   "metadata": {},
   "outputs": [
    {
     "name": "stdout",
     "output_type": "stream",
     "text": [
      "+--------------------+--------------------+----+-------------+-------+\n",
      "|     _corrupt_record|            geometry|  id|   properties|   type|\n",
      "+--------------------+--------------------+----+-------------+-------+\n",
      "|{\"type\":\"FeatureC...|                NULL|NULL|         NULL|   NULL|\n",
      "|                NULL|{[[[-87.359296, 3...|  AL|    {Alabama}|Feature|\n",
      "|                NULL|{[[[[-131.602021,...|  AK|     {Alaska}|Feature|\n",
      "|                NULL|{[[[-109.042503, ...|  AZ|    {Arizona}|Feature|\n",
      "|                NULL|{[[[-94.473842, 3...|  AR|   {Arkansas}|Feature|\n",
      "|                NULL|{[[[-123.233256, ...|  CA| {California}|Feature|\n",
      "|                NULL|{[[[-107.919731, ...|  CO|   {Colorado}|Feature|\n",
      "|                NULL|{[[[-73.053528, 4...|  CT|{Connecticut}|Feature|\n",
      "|                NULL|{[[[-75.414089, 3...|  DE|   {Delaware}|Feature|\n",
      "|                NULL|{[[[-85.497137, 3...|  FL|    {Florida}|Feature|\n",
      "|                NULL|{[[[-83.109191, 3...|  GA|    {Georgia}|Feature|\n",
      "|                NULL|{[[[[-155.634835,...|  HI|     {Hawaii}|Feature|\n",
      "|                NULL|{[[[-116.04751, 4...|  ID|      {Idaho}|Feature|\n",
      "|                NULL|{[[[-90.639984, 4...|  IL|   {Illinois}|Feature|\n",
      "|                NULL|{[[[-85.990061, 4...|  IN|    {Indiana}|Feature|\n",
      "|                NULL|{[[[-91.368417, 4...|  IA|       {Iowa}|Feature|\n",
      "|                NULL|{[[[-101.90605, 4...|  KS|     {Kansas}|Feature|\n",
      "|                NULL|{[[[-83.903347, 3...|  KY|   {Kentucky}|Feature|\n",
      "|                NULL|{[[[-93.608485, 3...|  LA|  {Louisiana}|Feature|\n",
      "|                NULL|{[[[-70.703921, 4...|  ME|      {Maine}|Feature|\n",
      "+--------------------+--------------------+----+-------------+-------+\n",
      "only showing top 20 rows\n",
      "\n"
     ]
    }
   ],
   "source": [
    "json_dt.show()"
   ]
  },
  {
   "cell_type": "code",
   "execution_count": 30,
   "id": "f8b0dcbb-fef2-4c6e-857d-6ada1a1f7706",
   "metadata": {},
   "outputs": [
    {
     "name": "stdout",
     "output_type": "stream",
     "text": [
      "root\n",
      " |-- _corrupt_record: string (nullable = true)\n",
      " |-- geometry: struct (nullable = true)\n",
      " |    |-- coordinates: array (nullable = true)\n",
      " |    |    |-- element: array (containsNull = true)\n",
      " |    |    |    |-- element: array (containsNull = true)\n",
      " |    |    |    |    |-- element: string (containsNull = true)\n",
      " |    |-- type: string (nullable = true)\n",
      " |-- id: string (nullable = true)\n",
      " |-- properties: struct (nullable = true)\n",
      " |    |-- name: string (nullable = true)\n",
      " |-- type: string (nullable = true)\n",
      "\n"
     ]
    }
   ],
   "source": [
    "json_dt.printSchema()"
   ]
  },
  {
   "cell_type": "code",
   "execution_count": 34,
   "id": "e3dc7486-edb4-4116-a284-51af0a9e6861",
   "metadata": {},
   "outputs": [
    {
     "name": "stdout",
     "output_type": "stream",
     "text": [
      "+--------------------+--------------------+----+-------------+-------+\n",
      "|     _corrupt_record|            geometry|  id|   properties|   type|\n",
      "+--------------------+--------------------+----+-------------+-------+\n",
      "|{\"type\":\"FeatureC...|                NULL|NULL|         NULL|   NULL|\n",
      "|                NULL|{[[[-87.359296, 3...|  AL|    {Alabama}|Feature|\n",
      "|                NULL|{[[[[-131.602021,...|  AK|     {Alaska}|Feature|\n",
      "|                NULL|{[[[-109.042503, ...|  AZ|    {Arizona}|Feature|\n",
      "|                NULL|{[[[-94.473842, 3...|  AR|   {Arkansas}|Feature|\n",
      "|                NULL|{[[[-123.233256, ...|  CA| {California}|Feature|\n",
      "|                NULL|{[[[-107.919731, ...|  CO|   {Colorado}|Feature|\n",
      "|                NULL|{[[[-73.053528, 4...|  CT|{Connecticut}|Feature|\n",
      "|                NULL|{[[[-75.414089, 3...|  DE|   {Delaware}|Feature|\n",
      "|                NULL|{[[[-85.497137, 3...|  FL|    {Florida}|Feature|\n",
      "|                NULL|{[[[-83.109191, 3...|  GA|    {Georgia}|Feature|\n",
      "|                NULL|{[[[[-155.634835,...|  HI|     {Hawaii}|Feature|\n",
      "|                NULL|{[[[-116.04751, 4...|  ID|      {Idaho}|Feature|\n",
      "|                NULL|{[[[-90.639984, 4...|  IL|   {Illinois}|Feature|\n",
      "|                NULL|{[[[-85.990061, 4...|  IN|    {Indiana}|Feature|\n",
      "|                NULL|{[[[-91.368417, 4...|  IA|       {Iowa}|Feature|\n",
      "|                NULL|{[[[-101.90605, 4...|  KS|     {Kansas}|Feature|\n",
      "|                NULL|{[[[-83.903347, 3...|  KY|   {Kentucky}|Feature|\n",
      "|                NULL|{[[[-93.608485, 3...|  LA|  {Louisiana}|Feature|\n",
      "|                NULL|{[[[-70.703921, 4...|  ME|      {Maine}|Feature|\n",
      "+--------------------+--------------------+----+-------------+-------+\n",
      "only showing top 20 rows\n",
      "\n"
     ]
    }
   ],
   "source": [
    "# Register the DataFrame as a SQL temporary view\n",
    "json_dt.createOrReplaceTempView(\"us_states_geo\")\n",
    "\n",
    "sqlDF = spark.sql(\"SELECT * FROM us_states_geo\")\n",
    "sqlDF.show()"
   ]
  },
  {
   "cell_type": "code",
   "execution_count": 49,
   "id": "ba5464f1-0ba7-4115-8377-41d41922e527",
   "metadata": {},
   "outputs": [
    {
     "name": "stderr",
     "output_type": "stream",
     "text": [
      "                                                                                \r"
     ]
    }
   ],
   "source": [
    "#writing json file to hdfs:\n",
    "json_dt.write.mode('Overwrite').json(\"hdfs://localhost:9000/user/enginsan/us_states.json\")\n"
   ]
  },
  {
   "cell_type": "markdown",
   "id": "06a86fbd-d298-435a-aea4-923e1b4bd4b7",
   "metadata": {},
   "source": [
    "from pyspark.sql import SparkSession\n",
    "\n",
    "spark = SparkSession.builder \\\n",
    "    .appName(\"IncreaseMemory\") \\\n",
    "    .config(\"spark.driver.memory\", \"4g\") \\\n",
    "    .config(\"spark.executor.memory\", \"4g\") \\\n",
    "    .config(\"spark.executor.instances\", \"4\") \\\n",
    "    .config(\"spark.executor.cores\", \"2\") \\\n",
    "    .getOrCreate()"
   ]
  },
  {
   "cell_type": "code",
   "execution_count": 51,
   "id": "97a8b8ab-1a64-4913-966a-65c242f72315",
   "metadata": {},
   "outputs": [
    {
     "name": "stdout",
     "output_type": "stream",
     "text": [
      "+---------------+--------------------+----+-------------+-------+\n",
      "|_corrupt_record|            geometry|  id|   properties|   type|\n",
      "+---------------+--------------------+----+-------------+-------+\n",
      "|           NULL|                NULL|NULL|         NULL|   NULL|\n",
      "|           NULL|{[[[-87.359296, 3...|  AL|    {Alabama}|Feature|\n",
      "|           NULL|{[[[[-131.602021,...|  AK|     {Alaska}|Feature|\n",
      "|           NULL|{[[[-109.042503, ...|  AZ|    {Arizona}|Feature|\n",
      "|           NULL|{[[[-94.473842, 3...|  AR|   {Arkansas}|Feature|\n",
      "|           NULL|{[[[-123.233256, ...|  CA| {California}|Feature|\n",
      "|           NULL|{[[[-107.919731, ...|  CO|   {Colorado}|Feature|\n",
      "|           NULL|{[[[-73.053528, 4...|  CT|{Connecticut}|Feature|\n",
      "|           NULL|{[[[-75.414089, 3...|  DE|   {Delaware}|Feature|\n",
      "|           NULL|{[[[-85.497137, 3...|  FL|    {Florida}|Feature|\n",
      "|           NULL|{[[[-83.109191, 3...|  GA|    {Georgia}|Feature|\n",
      "|           NULL|{[[[[-155.634835,...|  HI|     {Hawaii}|Feature|\n",
      "|           NULL|{[[[-116.04751, 4...|  ID|      {Idaho}|Feature|\n",
      "|           NULL|{[[[-90.639984, 4...|  IL|   {Illinois}|Feature|\n",
      "|           NULL|{[[[-85.990061, 4...|  IN|    {Indiana}|Feature|\n",
      "|           NULL|{[[[-91.368417, 4...|  IA|       {Iowa}|Feature|\n",
      "|           NULL|{[[[-101.90605, 4...|  KS|     {Kansas}|Feature|\n",
      "|           NULL|{[[[-83.903347, 3...|  KY|   {Kentucky}|Feature|\n",
      "|           NULL|{[[[-93.608485, 3...|  LA|  {Louisiana}|Feature|\n",
      "|           NULL|{[[[-70.703921, 4...|  ME|      {Maine}|Feature|\n",
      "+---------------+--------------------+----+-------------+-------+\n",
      "only showing top 20 rows\n",
      "\n",
      "root\n",
      " |-- _corrupt_record: string (nullable = true)\n",
      " |-- geometry: struct (nullable = true)\n",
      " |    |-- coordinates: array (nullable = true)\n",
      " |    |    |-- element: array (containsNull = true)\n",
      " |    |    |    |-- element: array (containsNull = true)\n",
      " |    |    |    |    |-- element: string (containsNull = true)\n",
      " |    |-- type: string (nullable = true)\n",
      " |-- id: string (nullable = true)\n",
      " |-- properties: struct (nullable = true)\n",
      " |    |-- name: string (nullable = true)\n",
      " |-- type: string (nullable = true)\n",
      "\n"
     ]
    }
   ],
   "source": [
    "# Step 3: Read the same JSON file from hdfs into a DataFrame\n",
    "df = spark.read.json(\"hdfs://localhost:9000/user/enginsan/us_states.json\")\n",
    "\n",
    "# Step 4: Show the DataFrame contents\n",
    "df.show()\n",
    "df.printSchema()\n",
    "\n",
    "# Step 5: Stop the Spark session\n",
    "spark.stop()"
   ]
  },
  {
   "cell_type": "code",
   "execution_count": 57,
   "id": "583dc898-d123-4f2f-95af-76a0deff854d",
   "metadata": {},
   "outputs": [
    {
     "data": {
      "text/plain": [
       "pyspark.sql.dataframe.DataFrame"
      ]
     },
     "execution_count": 57,
     "metadata": {},
     "output_type": "execute_result"
    }
   ],
   "source": [
    "type(df)"
   ]
  },
  {
   "cell_type": "code",
   "execution_count": 59,
   "id": "6ce588ac-0776-4b27-bf25-e40ef179fb7b",
   "metadata": {},
   "outputs": [],
   "source": [
    "#Connect and retrieve data (above wildfires csv data loaded by using importtsv method as hbase table into hbase server) from HBASE:\n"
   ]
  },
  {
   "cell_type": "code",
   "execution_count": null,
   "id": "2fc57f2b-dc49-4546-9c12-d58752b2bf15",
   "metadata": {},
   "outputs": [],
   "source": [
    "#start hbase thrift service start by terminal: hbase thrift start"
   ]
  },
  {
   "cell_type": "code",
   "execution_count": 6,
   "id": "b0961336-f006-4470-875c-2333903db585",
   "metadata": {},
   "outputs": [],
   "source": [
    "import happybase\n",
    "\n",
    "# Connect to the HBase Thrift server\n",
    "connection = happybase.Connection(host='localhost', port=9090)  \n",
    "\n",
    "# Open the connection\n",
    "connection.open()\n",
    "\n",
    "# Specify the table name\n",
    "table_name = 'fires_data'  # Replace with your table name\n",
    "\n",
    "# Access the table\n",
    "table = connection.table(table_name)"
   ]
  },
  {
   "cell_type": "code",
   "execution_count": 8,
   "id": "ea3d3a1b-e45e-40a3-9b0c-1cb0b4f8be85",
   "metadata": {},
   "outputs": [
    {
     "name": "stdout",
     "output_type": "stream",
     "text": [
      "<happybase.table.Table name=b'fires_data'>\n"
     ]
    }
   ],
   "source": [
    "print(table)"
   ]
  },
  {
   "cell_type": "code",
   "execution_count": 10,
   "id": "578f6445-b21e-4aaf-9986-b76b0d04706e",
   "metadata": {},
   "outputs": [
    {
     "name": "stdout",
     "output_type": "stream",
     "text": [
      "{b'cf:Count': b'N', b'cf:Date': b'20.276', b'cf:Estimated_fire_area': b'315.04', b'cf:Mean_confidence': b'6.418722614', b'cf:Mean_estimated_fire_brightness': b'88.46', b'cf:Mean_estimated_fire_radiative_power': b'82.2', b'cf:Region': b'10/31/2020', b'cf:Std_confidence': b'41.2', b'cf:Var_confidence': b'5'}\n"
     ]
    }
   ],
   "source": [
    "row = table.row(b'NSW')\n",
    "print(row)   # prints the value of cf1:col1"
   ]
  },
  {
   "cell_type": "code",
   "execution_count": 12,
   "id": "62bff26e-3b4d-4b10-b855-7467e73a2060",
   "metadata": {},
   "outputs": [
    {
     "name": "stdout",
     "output_type": "stream",
     "text": [
      "b'20.276'\n"
     ]
    }
   ],
   "source": [
    "row2 = table.row(b'NSW')\n",
    "print(row2[b'cf:Date'])   # prints the value of cf1:col1"
   ]
  },
  {
   "cell_type": "code",
   "execution_count": 14,
   "id": "ea1177b9-3667-4aec-8c29-a9fbf9dfdcce",
   "metadata": {},
   "outputs": [
    {
     "name": "stdout",
     "output_type": "stream",
     "text": [
      "b'NSW' {b'cf:Count': b'N', b'cf:Date': b'20.276', b'cf:Estimated_fire_area': b'315.04', b'cf:Mean_confidence': b'6.418722614', b'cf:Mean_estimated_fire_brightness': b'88.46', b'cf:Mean_estimated_fire_radiative_power': b'82.2', b'cf:Region': b'10/31/2020', b'cf:Std_confidence': b'41.2', b'cf:Var_confidence': b'5'}\n",
      "b'NT' {b'cf:Count': b'N', b'cf:Date': b'115.5884615', b'cf:Estimated_fire_area': b'327.1173077', b'cf:Mean_confidence': b'8.352337305', b'cf:Mean_estimated_fire_brightness': b'218.4730769', b'cf:Mean_estimated_fire_radiative_power': b'89.19230769', b'cf:Region': b'10/31/2020', b'cf:Std_confidence': b'69.76153846', b'cf:Var_confidence': b'26'}\n",
      "b'QL' {b'cf:Count': b'N', b'cf:Date': b'297.6278261', b'cf:Estimated_fire_area': b'321.7671498', b'cf:Mean_confidence': b'8.621925622', b'cf:Mean_estimated_fire_brightness': b'61.61304348', b'cf:Mean_estimated_fire_radiative_power': b'90.64251208', b'cf:Region': b'10/31/2020', b'cf:Std_confidence': b'74.33760143', b'cf:Var_confidence': b'207'}\n",
      "b'Region' {b'cf:Count': b'Replaced', b'cf:Date': b'Estimated_fire_area', b'cf:Estimated_fire_area': b'Mean_estimated_fire_brightness', b'cf:Mean_confidence': b'Std_confidence', b'cf:Mean_estimated_fire_brightness': b'Mean_estimated_fire_radiative_power', b'cf:Mean_estimated_fire_radiative_power': b'Mean_confidence', b'cf:Region': b'Date', b'cf:Std_confidence': b'Var_confidence', b'cf:Var_confidence': b'Count'}\n",
      "b'SA' {b'cf:Count': b'N', b'cf:Date': b'1.68', b'cf:Estimated_fire_area': b'334.3', b'cf:Mean_confidence': b'', b'cf:Mean_estimated_fire_brightness': b'80.2', b'cf:Mean_estimated_fire_radiative_power': b'96', b'cf:Region': b'10/22/2020', b'cf:Std_confidence': b'', b'cf:Var_confidence': b'1'}\n",
      "b'TA' {b'cf:Count': b'N', b'cf:Date': b'3.3', b'cf:Estimated_fire_area': b'315', b'cf:Mean_confidence': b'', b'cf:Mean_estimated_fire_brightness': b'141.8', b'cf:Mean_estimated_fire_radiative_power': b'78', b'cf:Region': b'10/26/2020', b'cf:Std_confidence': b'', b'cf:Var_confidence': b'1'}\n",
      "b'VI' {b'cf:Count': b'N', b'cf:Date': b'2', b'cf:Estimated_fire_area': b'317.6', b'cf:Mean_confidence': b'3.535533906', b'cf:Mean_estimated_fire_brightness': b'46.7', b'cf:Mean_estimated_fire_radiative_power': b'92.5', b'cf:Region': b'10/30/2020', b'cf:Std_confidence': b'12.5', b'cf:Var_confidence': b'2'}\n",
      "b'WA' {b'cf:Count': b'N', b'cf:Date': b'107.3708511', b'cf:Estimated_fire_area': b'330.0574468', b'cf:Mean_confidence': b'7.266628193', b'cf:Mean_estimated_fire_brightness': b'201.6255319', b'cf:Mean_estimated_fire_radiative_power': b'92.9787234', b'cf:Region': b'10/31/2020', b'cf:Std_confidence': b'52.80388529', b'cf:Var_confidence': b'47'}\n"
     ]
    }
   ],
   "source": [
    "for key, data in table.scan(row_start=b'NSW'):\n",
    "    print(key, data)"
   ]
  },
  {
   "cell_type": "code",
   "execution_count": 16,
   "id": "8f871418-0b05-4cbd-9e75-06fd6512fb98",
   "metadata": {},
   "outputs": [
    {
     "name": "stdout",
     "output_type": "stream",
     "text": [
      "  row_key  cf:Count              cf:Date          cf:Estimated_fire_area  \\\n",
      "0     NSW         N               20.276                          315.04   \n",
      "1      NT         N          115.5884615                     327.1173077   \n",
      "2      QL         N          297.6278261                     321.7671498   \n",
      "3  Region  Replaced  Estimated_fire_area  Mean_estimated_fire_brightness   \n",
      "4      SA         N                 1.68                           334.3   \n",
      "5      TA         N                  3.3                             315   \n",
      "6      VI         N                    2                           317.6   \n",
      "7      WA         N          107.3708511                     330.0574468   \n",
      "\n",
      "  cf:Mean_confidence    cf:Mean_estimated_fire_brightness  \\\n",
      "0        6.418722614                                88.46   \n",
      "1        8.352337305                          218.4730769   \n",
      "2        8.621925622                          61.61304348   \n",
      "3     Std_confidence  Mean_estimated_fire_radiative_power   \n",
      "4                                                    80.2   \n",
      "5                                                   141.8   \n",
      "6        3.535533906                                 46.7   \n",
      "7        7.266628193                          201.6255319   \n",
      "\n",
      "  cf:Mean_estimated_fire_radiative_power   cf:Region cf:Std_confidence  \\\n",
      "0                                   82.2  10/31/2020              41.2   \n",
      "1                            89.19230769  10/31/2020       69.76153846   \n",
      "2                            90.64251208  10/31/2020       74.33760143   \n",
      "3                        Mean_confidence        Date    Var_confidence   \n",
      "4                                     96  10/22/2020                     \n",
      "5                                     78  10/26/2020                     \n",
      "6                                   92.5  10/30/2020              12.5   \n",
      "7                             92.9787234  10/31/2020       52.80388529   \n",
      "\n",
      "  cf:Var_confidence  \n",
      "0                 5  \n",
      "1                26  \n",
      "2               207  \n",
      "3             Count  \n",
      "4                 1  \n",
      "5                 1  \n",
      "6                 2  \n",
      "7                47  \n"
     ]
    }
   ],
   "source": [
    "#connect to hbase, read data and convert to pandas data frame:\n",
    "import happybase\n",
    "import pandas as pd\n",
    "\n",
    "# Connect to the HBase Thrift server\n",
    "connection = happybase.Connection(host='localhost', port=9090)  # Replace 'localhost' and '9090' with your HBase server details\n",
    "connection.open()\n",
    "\n",
    "# Specify the table name\n",
    "table_name = 'fires_data'  # Replace with your table name\n",
    "table = connection.table(table_name)\n",
    "\n",
    "# Retrieve data using scan (scans all rows by default)\n",
    "rows = table.scan()\n",
    "\n",
    "# Prepare data for Pandas DataFrame\n",
    "data = []\n",
    "columns = set()  # To collect all column names dynamically\n",
    "\n",
    "# Iterate over the rows\n",
    "for key, row_data in rows:\n",
    "    # Create a dictionary including the row key and column data\n",
    "    row = {'row_key': key.decode('utf-8')}  # Decode the row key from bytes\n",
    "    for column, value in row_data.items():\n",
    "        column_name = column.decode('utf-8')  # Decode column names\n",
    "        row[column_name] = value.decode('utf-8')  # Decode values (assuming they are strings)\n",
    "        columns.add(column_name)\n",
    "    data.append(row)\n",
    "\n",
    "# Convert to DataFrame\n",
    "columns = ['row_key'] + sorted(columns)  # Define DataFrame columns including row key\n",
    "df = pd.DataFrame(data, columns=columns)\n",
    "\n",
    "# Close the connection\n",
    "connection.close()\n",
    "\n",
    "# Display the DataFrame\n",
    "print(df)"
   ]
  },
  {
   "cell_type": "code",
   "execution_count": 18,
   "id": "bcadd4a7-26c6-4398-9198-dc1c2a27d58e",
   "metadata": {},
   "outputs": [
    {
     "data": {
      "text/html": [
       "<div>\n",
       "<style scoped>\n",
       "    .dataframe tbody tr th:only-of-type {\n",
       "        vertical-align: middle;\n",
       "    }\n",
       "\n",
       "    .dataframe tbody tr th {\n",
       "        vertical-align: top;\n",
       "    }\n",
       "\n",
       "    .dataframe thead th {\n",
       "        text-align: right;\n",
       "    }\n",
       "</style>\n",
       "<table border=\"1\" class=\"dataframe\">\n",
       "  <thead>\n",
       "    <tr style=\"text-align: right;\">\n",
       "      <th></th>\n",
       "      <th>row_key</th>\n",
       "      <th>cf:Count</th>\n",
       "      <th>cf:Date</th>\n",
       "      <th>cf:Estimated_fire_area</th>\n",
       "      <th>cf:Mean_confidence</th>\n",
       "      <th>cf:Mean_estimated_fire_brightness</th>\n",
       "      <th>cf:Mean_estimated_fire_radiative_power</th>\n",
       "      <th>cf:Region</th>\n",
       "      <th>cf:Std_confidence</th>\n",
       "      <th>cf:Var_confidence</th>\n",
       "    </tr>\n",
       "  </thead>\n",
       "  <tbody>\n",
       "    <tr>\n",
       "      <th>0</th>\n",
       "      <td>NSW</td>\n",
       "      <td>N</td>\n",
       "      <td>20.276</td>\n",
       "      <td>315.04</td>\n",
       "      <td>6.418722614</td>\n",
       "      <td>88.46</td>\n",
       "      <td>82.2</td>\n",
       "      <td>10/31/2020</td>\n",
       "      <td>41.2</td>\n",
       "      <td>5</td>\n",
       "    </tr>\n",
       "    <tr>\n",
       "      <th>1</th>\n",
       "      <td>NT</td>\n",
       "      <td>N</td>\n",
       "      <td>115.5884615</td>\n",
       "      <td>327.1173077</td>\n",
       "      <td>8.352337305</td>\n",
       "      <td>218.4730769</td>\n",
       "      <td>89.19230769</td>\n",
       "      <td>10/31/2020</td>\n",
       "      <td>69.76153846</td>\n",
       "      <td>26</td>\n",
       "    </tr>\n",
       "    <tr>\n",
       "      <th>2</th>\n",
       "      <td>QL</td>\n",
       "      <td>N</td>\n",
       "      <td>297.6278261</td>\n",
       "      <td>321.7671498</td>\n",
       "      <td>8.621925622</td>\n",
       "      <td>61.61304348</td>\n",
       "      <td>90.64251208</td>\n",
       "      <td>10/31/2020</td>\n",
       "      <td>74.33760143</td>\n",
       "      <td>207</td>\n",
       "    </tr>\n",
       "    <tr>\n",
       "      <th>3</th>\n",
       "      <td>Region</td>\n",
       "      <td>Replaced</td>\n",
       "      <td>Estimated_fire_area</td>\n",
       "      <td>Mean_estimated_fire_brightness</td>\n",
       "      <td>Std_confidence</td>\n",
       "      <td>Mean_estimated_fire_radiative_power</td>\n",
       "      <td>Mean_confidence</td>\n",
       "      <td>Date</td>\n",
       "      <td>Var_confidence</td>\n",
       "      <td>Count</td>\n",
       "    </tr>\n",
       "    <tr>\n",
       "      <th>4</th>\n",
       "      <td>SA</td>\n",
       "      <td>N</td>\n",
       "      <td>1.68</td>\n",
       "      <td>334.3</td>\n",
       "      <td></td>\n",
       "      <td>80.2</td>\n",
       "      <td>96</td>\n",
       "      <td>10/22/2020</td>\n",
       "      <td></td>\n",
       "      <td>1</td>\n",
       "    </tr>\n",
       "  </tbody>\n",
       "</table>\n",
       "</div>"
      ],
      "text/plain": [
       "  row_key  cf:Count              cf:Date          cf:Estimated_fire_area  \\\n",
       "0     NSW         N               20.276                          315.04   \n",
       "1      NT         N          115.5884615                     327.1173077   \n",
       "2      QL         N          297.6278261                     321.7671498   \n",
       "3  Region  Replaced  Estimated_fire_area  Mean_estimated_fire_brightness   \n",
       "4      SA         N                 1.68                           334.3   \n",
       "\n",
       "  cf:Mean_confidence    cf:Mean_estimated_fire_brightness  \\\n",
       "0        6.418722614                                88.46   \n",
       "1        8.352337305                          218.4730769   \n",
       "2        8.621925622                          61.61304348   \n",
       "3     Std_confidence  Mean_estimated_fire_radiative_power   \n",
       "4                                                    80.2   \n",
       "\n",
       "  cf:Mean_estimated_fire_radiative_power   cf:Region cf:Std_confidence  \\\n",
       "0                                   82.2  10/31/2020              41.2   \n",
       "1                            89.19230769  10/31/2020       69.76153846   \n",
       "2                            90.64251208  10/31/2020       74.33760143   \n",
       "3                        Mean_confidence        Date    Var_confidence   \n",
       "4                                     96  10/22/2020                     \n",
       "\n",
       "  cf:Var_confidence  \n",
       "0                 5  \n",
       "1                26  \n",
       "2               207  \n",
       "3             Count  \n",
       "4                 1  "
      ]
     },
     "execution_count": 18,
     "metadata": {},
     "output_type": "execute_result"
    }
   ],
   "source": [
    "df.head()"
   ]
  }
 ],
 "metadata": {
  "kernelspec": {
   "display_name": "Python 3 (ipykernel)",
   "language": "python",
   "name": "python3"
  },
  "language_info": {
   "codemirror_mode": {
    "name": "ipython",
    "version": 3
   },
   "file_extension": ".py",
   "mimetype": "text/x-python",
   "name": "python",
   "nbconvert_exporter": "python",
   "pygments_lexer": "ipython3",
   "version": "3.11.5"
  }
 },
 "nbformat": 4,
 "nbformat_minor": 5
}
